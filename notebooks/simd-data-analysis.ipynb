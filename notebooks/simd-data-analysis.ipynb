{
 "cells": [
  {
   "cell_type": "markdown",
   "metadata": {},
   "source": [
    "# Trabajo en grupo 2018 - Filtros de imágenes"
   ]
  },
  {
   "cell_type": "markdown",
   "metadata": {},
   "source": [
    "## Versión: SIMD"
   ]
  },
  {
   "cell_type": "markdown",
   "metadata": {},
   "source": [
    "### Autores:\n",
    " - Alejandro\n",
    " - Álvaro Baños Gomez \n",
    " - Iñaki\n",
    " - Guillermo Facundo Colunga"
   ]
  },
  {
   "cell_type": "markdown",
   "metadata": {},
   "source": [
    "### Enunciado\n",
    "Realizar una versión monohilo con extensiones multimedia y una versión multihilo del programa anterior para aprovechar las capacidades de paralelismo y concurrencia del sistema y así obtener una ganancia de rendimiento.\n",
    "\n",
    "El segundo programa monohilo a desarrollar consiste en el empleo de las extensiones SIMD de la arquitectura para la mejora del rendimiento, para lo cual en esta parte se empleará el proyecto Singlethread-SIMD. Las extensiones SIMD se usarán para la implementación de las operaciones repetitivas que se llevan a cabo durante el procesamiento de las imágenes indicado por tu profesor. A estas extensiones también se las conoce como extensiones multimedia o vectoriales, pues en este campo de aplicación es habitual la realización de operaciones repetitivas muy simples sobre grandes vectores o matrices que codifican imágenes, audio y vídeo.\n",
    "\n",
    "Las extensiones multimedia son opcionales y se agrupan en conjuntos de instrucciones. Dependiendo del procesador que incorpore el equipo pueden estar disponibles algunas y otras no. Por esta razón, en el trabajo a realizar en primer lugar se debe proporcionar una lista de las extensiones SIMD soportadas.\n",
    "\n",
    "El empleo de las extensiones SIMD se lleva a cabo empleando lo que se denomina funciones intrínsecas (intrinsics). En apariencia son funciones de C, pero en realidad no lo son pues no son llamadas como las funciones habituales. Cada referencia a una función intrínseca en el código se traduce directamente en una instrucción ensamblador."
   ]
  },
  {
   "cell_type": "markdown",
   "metadata": {},
   "source": [
    "> **Extensiones SIMD soportadas:** MMX, SSE, SSE2, SSE3, SSSE3, SSE4.1, SSE4.2, AVX."
   ]
  },
  {
   "cell_type": "markdown",
   "metadata": {},
   "source": [
    "### Estructuras de datos para imágenes\n",
    "\n",
    "Las imágenes se cargan en el sistema con la libreria `CImg` y se emplea el tipo `float` para representarlas. Usando esta librería podemos obtener un único vector que contiene todos los datos de la imágen. El formato del vector para una imágen RGB sería:\n",
    "\n",
    "$$v = [ r_{1}, r_{2}, r_{3},...,r_{n}, g_{1}, g_{2}, g_{3},...,g_{n}, b_{1}, b_{2}, b_{3},...,b_{n}]$$\n",
    "\n",
    "Por lo tanto lo que tenemos es un único vector que contiene el valor de las componentes rojas, luego verdes y finalmente azules. De lo que se deduce que el tamaño de $v$ es: $ancho \\cdot alto \\cdot númeroComponentes$."
   ]
  },
  {
   "cell_type": "markdown",
   "metadata": {},
   "source": [
    "### Algoritmo a implementar\n",
    "\n",
    "El algoritmo asignado es el de fusionar dos imágenes con el modo amplitud. Para conseguir el modo amplitud los vectores R' G' y B', que representan las componentes de la imagen resultante, se calculan de la siguente manera:\n",
    "\n",
    "$${R'} = \\frac{\\sqrt{Ra^{2} + Rb^{2}}}{\\sqrt{2}}$$\n",
    "\n",
    "$${G'} = \\frac{\\sqrt{Ga^{2} + Gb^{2}}}{\\sqrt{2}}$$\n",
    "\n",
    "$${B'} = \\frac{\\sqrt{Ba^{2} + Bb^{2}}}{\\sqrt{2}}$$\n",
    "\n",
    "De las fórmulas anteriores se puede deducir que para cualquier coordenada RGB de las imágenes 1 y 2 la fórmula de transformación será:\n",
    "\n",
    "$$(x{_{3}}, y{_{3}}, z{_{3}}) = \\left ( \\frac{\\sqrt{x{_{1}}^{2} + x{_{2}}^{2}}}{\\sqrt{2}},  \\frac{\\sqrt{y{_{1}}^{2} + y{_{2}}^{2}}}{\\sqrt{2}}, \\frac{\\sqrt{z{_{1}}^{2} + z{_{2}}^{2}}}{\\sqrt{2}} \\right )$$\n",
    "\n",
    "Siendo $x{_{3}}, y{_{3}}, z{_{3}}$ las coordenadas RGB de la imágen resultante de la fusión con el modo amplitud de las imágenes 1 y 2."
   ]
  },
  {
   "cell_type": "markdown",
   "metadata": {},
   "source": [
    "### Algoritmo implementado\n",
    "\n",
    "Cómo hemos visto las imágenes se encuentran representadas por medio de vectores que contienen sus componentes, por lo tanto, tendremos:\n",
    "\n",
    "$imagen_{1} = [ r_{11}, r_{12}, r_{13},...,r_{1n}, g_{11}, g_{12}, g_{13},...,g_{1n}, b_{11}, b_{12}, b_{13},...,b_{1n}]$\n",
    "\n",
    "$imagen_{2} = [ r_{21}, r_{22}, r_{23},...,r_{2n}, g_{21}, g_{22}, g_{23},...,g_{2n}, b_{21}, b_{22}, b_{23},...,b_{2n}]$\n",
    "\n",
    "$imagen_{3} = [imagen_{1}.ancho \\cdot imagen_{1}.alto \\cdot imagen_{1}.númeroComponentes]$\n",
    "\n",
    "\n",
    "PARA CADA i DESDE 0 HASTA $(imagen_{1}.ancho \\cdot imagen_{1}.alto \\cdot imagen_{1}.númeroComponentes)$\n",
    "    \n",
    "$$imagen_{3i} = \\frac{\\sqrt{imagen_{1i}^{2} + imagen_{2i}^{2}}}{\\sqrt{2}}$$"
   ]
  },
  {
   "cell_type": "markdown",
   "metadata": {},
   "source": [
    "Teniendo en cuanta las intrucciones SIMD que soporta el procesador en el que se implementa el algoritmo se usará la version de AVX, ya que es la más moderna de las intrucciones SIMD soportada.\n",
    "\n",
    "Con las instrucciones SIMD podemos realizar operaciones sobre vectores de `SIMD_BANDWITH` elementos en una sola operación con lo que recorreremos el vector de `SIMD_BANDWIT` en `SIMD_BANDWIT` elementos.\n",
    "\n",
    "Por lo tanto y para poder aplicar la fórmula anterior a `SIMD_BANDWITH` elementos al unisono debemos de descomponer la fórmula en operaciones elementales. El siguiente código ilustra una versión descompuesta del algoritmo implementado:"
   ]
  },
  {
   "cell_type": "markdown",
   "metadata": {},
   "source": [
    "```c++\n",
    "for (int i = 0; i < size; i += SIMD_BANDWITH) {   \n",
    "    a = _mm256_loadu_ps(&pcompImage1[i]); // cargar img1\n",
    "    b = _mm256_loadu_ps(&pcompImage2[i]); // cargar img2\n",
    "    a2 = _mm256_mul_ps(a, a); // img1^2\n",
    "    b2 = _mm256_mul_ps(b, b); // img2^2\n",
    "    ab2 = _mm256_add_ps(a2, b2); // img1^2 + img2^2\n",
    "    raizab2 = _mm256_sqrt_ps(ab2); // raiz_cuadrada( img1^2 + img2^2 )\n",
    "    res8 = _mm256_div_ps(raizab2, vsqrt2); // raiz_cuadrada( img1^2 + img2^2 ) / raiz_cuadrada( 2.0 )\n",
    "    \n",
    "    _mm256_storeu_ps(&pdstImage[i], res8); // img3 = raiz_cuadrada( img1^2 + img2^2 ) / raiz_cuadrada( 2.0 )\n",
    "}\n",
    "\n",
    "```"
   ]
  },
  {
   "cell_type": "markdown",
   "metadata": {},
   "source": [
    "El siguiente código muestra el algoritmo que se implementó:"
   ]
  },
  {
   "cell_type": "markdown",
   "metadata": {},
   "source": [
    "```c++\n",
    "for (int i = 0; i < size; i += SIMD_BANDWITH) {   \n",
    "    _mm256_storeu_ps(\n",
    "        &pdstImage[i],\n",
    "        _mm256_div_ps(\n",
    "            _mm256_sqrt_ps(\n",
    "                _mm256_add_ps(\n",
    "                    _mm256_mul_ps(\n",
    "                        _mm256_loadu_ps(&pcompImage1[i]),\n",
    "                        _mm256_loadu_ps(&pcompImage1[i])),\n",
    "                    _mm256_mul_ps(\n",
    "                        _mm256_loadu_ps(&pcompImage2[i]),\n",
    "                        _mm256_loadu_ps(&pcompImage2[i])\n",
    "                    )\n",
    "                )\n",
    "            ),\n",
    "            vsqrt2\n",
    "        )\n",
    "    );\n",
    "}\n",
    "\n",
    "```"
   ]
  },
  {
   "cell_type": "markdown",
   "metadata": {},
   "source": [
    "> **Nota**: _Como la ejecucion del algoritmo dura menos de 5 segundos se anida el anterior algoritmo dentro de un bucle for que lo repetirá 40 veces con lo que el tiempo de la ejecución del programa será superior a los 5 segundos, **pero se estará ejecutando el algoritmo 40 veces**._\n",
    "\n",
    "> **Nota:** El algoritmo anterior se encuentra implementado únicamente con instrucciones SIMD anidadas, sin variables."
   ]
  },
  {
   "cell_type": "markdown",
   "metadata": {},
   "source": [
    "### Análisis del algoritmo\n",
    "Para la ejecución del algoritmo anterior se obtienen los siguientes datos tras realizar 10 ejecuciones en modo release:"
   ]
  },
  {
   "cell_type": "code",
   "execution_count": 1,
   "metadata": {},
   "outputs": [
    {
     "data": {
      "text/html": [
       "<div>\n",
       "<style scoped>\n",
       "    .dataframe tbody tr th:only-of-type {\n",
       "        vertical-align: middle;\n",
       "    }\n",
       "\n",
       "    .dataframe tbody tr th {\n",
       "        vertical-align: top;\n",
       "    }\n",
       "\n",
       "    .dataframe thead th {\n",
       "        text-align: right;\n",
       "    }\n",
       "</style>\n",
       "<table border=\"1\" class=\"dataframe\">\n",
       "  <thead>\n",
       "    <tr style=\"text-align: right;\">\n",
       "      <th></th>\n",
       "      <th>Duración</th>\n",
       "    </tr>\n",
       "  </thead>\n",
       "  <tbody>\n",
       "    <tr>\n",
       "      <th>1</th>\n",
       "      <td>5.2364</td>\n",
       "    </tr>\n",
       "    <tr>\n",
       "      <th>2</th>\n",
       "      <td>5.2364</td>\n",
       "    </tr>\n",
       "    <tr>\n",
       "      <th>3</th>\n",
       "      <td>5.2364</td>\n",
       "    </tr>\n",
       "    <tr>\n",
       "      <th>4</th>\n",
       "      <td>5.2364</td>\n",
       "    </tr>\n",
       "    <tr>\n",
       "      <th>5</th>\n",
       "      <td>5.2364</td>\n",
       "    </tr>\n",
       "    <tr>\n",
       "      <th>6</th>\n",
       "      <td>5.2364</td>\n",
       "    </tr>\n",
       "    <tr>\n",
       "      <th>7</th>\n",
       "      <td>5.2364</td>\n",
       "    </tr>\n",
       "    <tr>\n",
       "      <th>8</th>\n",
       "      <td>5.2364</td>\n",
       "    </tr>\n",
       "    <tr>\n",
       "      <th>9</th>\n",
       "      <td>5.2364</td>\n",
       "    </tr>\n",
       "    <tr>\n",
       "      <th>10</th>\n",
       "      <td>5.2364</td>\n",
       "    </tr>\n",
       "  </tbody>\n",
       "</table>\n",
       "</div>"
      ],
      "text/plain": [
       "    Duración\n",
       "1     5.2364\n",
       "2     5.2364\n",
       "3     5.2364\n",
       "4     5.2364\n",
       "5     5.2364\n",
       "6     5.2364\n",
       "7     5.2364\n",
       "8     5.2364\n",
       "9     5.2364\n",
       "10    5.2364"
      ]
     },
     "execution_count": 1,
     "metadata": {},
     "output_type": "execute_result"
    }
   ],
   "source": [
    "import pandas as pd\n",
    "data = pd.Series([5.2364, 5.2364, 5.2364, 5.2364, 5.2364, 5.2364, 5.2364, 5.2364, 5.2364, 5.2364],\n",
    "                 index=['1', '2', '3', '4', '5', '6', '7', '8', '9', '10'])\n",
    "table = pd.DataFrame({'Duración':data})\n",
    "table"
   ]
  },
  {
   "cell_type": "code",
   "execution_count": 2,
   "metadata": {},
   "outputs": [
    {
     "name": "stdout",
     "output_type": "stream",
     "text": [
      "Media 40 ejecuciones:  5.2364 s.\n",
      "Desviación estándar:  8.881784197e-16 .\n",
      "Media 1 ejecución:  0.13091 s.\n"
     ]
    }
   ],
   "source": [
    "import numpy as np\n",
    "mean = np.mean(data)\n",
    "std = np.std(data)\n",
    "print(\"Media 40 ejecuciones: \", mean, \"s.\")\n",
    "print(\"Desviación estándar: \", std, \".\")\n",
    "print(\"Media 1 ejecución: \", mean/40.0, \"s.\"); # 40 es el número de ejecuciones."
   ]
  },
  {
   "cell_type": "markdown",
   "metadata": {},
   "source": [
    "#### Comparación con versión monohilo sin instrucciones SIMD\n",
    "\n",
    "A continuación se muestra la acceleración obtenida de esta versión con respecto a la versión monohilo y sin instrucciones SIMD. Las mejoras de esta versió que pueden afectar a la aceleración son:\n",
    "\n",
    "    - Único bucle para recorrer vector entero.\n",
    "    - Reducción en el uso de punteros.\n",
    "    - Implementación de instrucciones SIMD con ancho de banda de 256 bit.\n",
    "    "
   ]
  },
  {
   "cell_type": "code",
   "execution_count": 3,
   "metadata": {},
   "outputs": [
    {
     "data": {
      "text/html": [
       "<div>\n",
       "<style scoped>\n",
       "    .dataframe tbody tr th:only-of-type {\n",
       "        vertical-align: middle;\n",
       "    }\n",
       "\n",
       "    .dataframe tbody tr th {\n",
       "        vertical-align: top;\n",
       "    }\n",
       "\n",
       "    .dataframe thead th {\n",
       "        text-align: right;\n",
       "    }\n",
       "</style>\n",
       "<table border=\"1\" class=\"dataframe\">\n",
       "  <thead>\n",
       "    <tr style=\"text-align: right;\">\n",
       "      <th></th>\n",
       "      <th>T. x 1 Ejecución</th>\n",
       "    </tr>\n",
       "  </thead>\n",
       "  <tbody>\n",
       "    <tr>\n",
       "      <th>monohilo</th>\n",
       "      <td>3.11820</td>\n",
       "    </tr>\n",
       "    <tr>\n",
       "      <th>simd</th>\n",
       "      <td>0.13091</td>\n",
       "    </tr>\n",
       "  </tbody>\n",
       "</table>\n",
       "</div>"
      ],
      "text/plain": [
       "          T. x 1 Ejecución\n",
       "monohilo           3.11820\n",
       "simd               0.13091"
      ]
     },
     "execution_count": 3,
     "metadata": {},
     "output_type": "execute_result"
    }
   ],
   "source": [
    "import pandas as pd\n",
    "data = pd.Series([3.1182, 0.13091],\n",
    "                 index=['monohilo', 'simd']);\n",
    "table = pd.DataFrame({'T. x 1 Ejecución':data})\n",
    "table"
   ]
  },
  {
   "cell_type": "code",
   "execution_count": 4,
   "metadata": {},
   "outputs": [
    {
     "name": "stdout",
     "output_type": "stream",
     "text": [
      "Aceleración:  23.819417920708883 s.\n"
     ]
    }
   ],
   "source": [
    "mean_monohilo = 3.1182;\n",
    "mean_simd = 0.13091\n",
    "print(\"Aceleración: \", mean_monohilo/mean_simd , \"s.\");"
   ]
  }
 ],
 "metadata": {
  "kernelspec": {
   "display_name": "Python 3",
   "language": "python",
   "name": "python3"
  },
  "language_info": {
   "codemirror_mode": {
    "name": "ipython",
    "version": 3
   },
   "file_extension": ".py",
   "mimetype": "text/x-python",
   "name": "python",
   "nbconvert_exporter": "python",
   "pygments_lexer": "ipython3",
   "version": "3.6.6"
  }
 },
 "nbformat": 4,
 "nbformat_minor": 2
}
