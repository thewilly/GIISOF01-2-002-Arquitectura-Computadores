{
 "cells": [
  {
   "cell_type": "markdown",
   "metadata": {},
   "source": [
    "# Trabajo en grupo 2018 - Filtros de imágenes"
   ]
  },
  {
   "cell_type": "markdown",
   "metadata": {},
   "source": [
    "## Versión: monohilo"
   ]
  },
  {
   "cell_type": "markdown",
   "metadata": {},
   "source": [
    "### Autores:\n",
    " - Alejandro\n",
    " - Álvaro Baños Gomez \n",
    " - Iñaki\n",
    " - Guillermo Facundo Colunga"
   ]
  },
  {
   "cell_type": "markdown",
   "metadata": {},
   "source": [
    "### Enunciado\n",
    "Programa monohilo secuencial en C/C++ que implemente operaciones vectoriales sobre las componentes de imágenes digitales. El programa monohilo a desarrollar consiste en la implementación básica de las operaciones y se tomará como referencia para el cálculo de las aceleraciones obtenidas en las implementaciones posteriores.\n",
    "\n",
    "> Nota: _Para mejorar la resolución de la medida de intervalos de tiempo, el procesamiento vectorial debería tener una duración entre 5 y 10 segundos, por lo que si una sola ejecución del algoritmo no dura lo suficiente, se repetirá (en bucle) el número de veces necesario para alcanzar esos tiempos._\n",
    "\n",
    "Una vez realizado el programa, éste debe ejecutarse 10 veces en modo Release y calcular la media y la desviación típica del tiempo de respuesta, reflejando todas las medidas obtenidas y las estadísticas en una tabla de la documentación."
   ]
  },
  {
   "cell_type": "markdown",
   "metadata": {},
   "source": [
    "### Algoritmo a imlementar\n",
    "\n",
    "El algoritmo asignado es el de fusionar dos imágenes con el modo amplitud. Para conseguir el modo amplitud los vectores R' G' y B', que representan las componentes de la imagen resultante, se calculan de la siguente manera:\n",
    "\n",
    "$${R'} = \\frac{\\sqrt{Ra^{2} + Rb^{2}}}{\\sqrt{2}}$$\n",
    "\n",
    "$${G'} = \\frac{\\sqrt{Ga^{2} + Gb^{2}}}{\\sqrt{2}}$$\n",
    "\n",
    "$${B'} = \\frac{\\sqrt{Ba^{2} + Bb^{2}}}{\\sqrt{2}}$$\n",
    "\n",
    "De las fórmulas anteriores se puede deducir que para cualquier coordenada RGB de las imágenes 1 y 2 la fórmula de transformación será:\n",
    "\n",
    "$$(x{_{3}}, y{_{3}}, z{_{3}}) = \\left ( \\frac{\\sqrt{x{_{1}}^{2} + x{_{2}}^{2}}}{\\sqrt{2}},  \\frac{\\sqrt{y{_{1}}^{2} + y{_{2}}^{2}}}{\\sqrt{2}}, \\frac{\\sqrt{z{_{1}}^{2} + z{_{2}}^{2}}}{\\sqrt{2}} \\right )$$\n",
    "\n",
    "Siendo $x{_{3}}, y{_{3}}, z{_{3}}$ las coordenadas RGB de la imágen resultante de la fusión con el modo amplitud de las imágenes 1 y 2."
   ]
  },
  {
   "cell_type": "markdown",
   "metadata": {},
   "source": [
    "### Algoritmo implementado\n",
    "Para resolver el problema anterior se implementa el siguiente algoritmo en c++ que se incluye en la clase [Main.cpp](https://github.com/thewilly/GIISOF01-2-002-Arquitectura-Computadores/blob/master/Singlethread/Src/Main.cpp) del proyecto Singlethread proporcionado.\n",
    "\n",
    "```c++\n",
    "for (int i = 0; i < height; i++) {\n",
    "    for (int j = 0; j < width; j++) {\n",
    "\n",
    "\t// Computing red pixels.\n",
    "\tpRnew[i * width + j] = \n",
    "        sqrtf(\n",
    "            pow(pRcomp_1[i * width + j], 2.0f) \n",
    "            + pow(pRcomp_2[i * width + j], 2.0f)) \n",
    "        / sqrtf(2.0f);\n",
    "\n",
    "\t// Computing green pixels.\n",
    "\tpGnew[i * width + j] = \n",
    "        sqrtf(\n",
    "            pow(pGcomp_1[i * width + j], 2.0f) \n",
    "            + pow(pGcomp_2[i * width + j], 2.0f)) \n",
    "        / sqrtf(2.0f);\n",
    "\n",
    "\t// Computing blue pixels.\n",
    "\tpBnew[i * width + j] = \n",
    "        sqrtf(\n",
    "            pow(pBcomp_1[i * width + j], 2.0f) \n",
    "            + pow(pBcomp_2[i * width + j], 2.0f)) \n",
    "        / sqrtf(2.0f);\n",
    "\t}\n",
    "}\n",
    "```\n",
    "\n",
    "> **Nota**: _Como la ejecucion del algoritmo dura menos de 5 segundos se anida el anterior algoritmo dentro de un bucle for que lo repetirá 3 veces con lo que el tiempo de la ejecución del programa será superior a los 5 segundos, **pero se estará ejecutando el algoritmo 3 veces**._\n",
    "\n",
    "> **Nota**: _En el agortimo anterior no se ha realizado ninguna optimización, se trabaja sobre punteros a un único vector y se repiten operaciónes como la `sqrtf(2.0f)` que se podría extraer como operación común y constante a una variable y emplear su valor en el bucle._\n",
    "\n",
    "#### Explicación del algoritmo\n",
    "El algoritmo anterior lo que hace es recorrer las imágenes pixel a pixel, para ello se emplean dos bucles `for`, uno para la altura y otro para la anchura de las imágenes. A continuación para cada pixel `i` se realiza la operación indicada para fusionar imágenes con el modo amplitud: `Rc(i') = sqrt(Ra[i]^2 + Rb[i]^2) / sqrt(2)`.\n",
    "\n",
    "**Pseudo-código**\n",
    "```\n",
    "PARA CADA i DESDE i=0 HASTA i < altura_imagen\n",
    "\n",
    "    PARA CADA j DESDE j=0 HASTA j < anchura_imagen\n",
    "        \n",
    "        comp_rojo_img_c[i, j] = sqrt(comp_rojo_img_a[i]^2 + comp_rojo_img_b[i]^2) / sqrt(2)\n",
    "        \n",
    "        comp_verde_img_c[i, j] = sqrt(comp_verde_img_a[i]^2 + comp_verde_img_b[i]^2) / sqrt(2)\n",
    "        \n",
    "        comp_azul_img_c[i, j] = sqrt(comp_azul_img_a[i]^2 + comp_azul_img_b[i]^2) / sqrt(2)\n",
    "```"
   ]
  },
  {
   "cell_type": "markdown",
   "metadata": {},
   "source": [
    "### Análisis del algoritmo implementado\n",
    "Para la ejecución del algoritmo anterior se obtienen los siguientes datos tras realizar 10 ejecuciones en modo release:"
   ]
  },
  {
   "cell_type": "code",
   "execution_count": 1,
   "metadata": {},
   "outputs": [
    {
     "data": {
      "text/html": [
       "<div>\n",
       "<style scoped>\n",
       "    .dataframe tbody tr th:only-of-type {\n",
       "        vertical-align: middle;\n",
       "    }\n",
       "\n",
       "    .dataframe tbody tr th {\n",
       "        vertical-align: top;\n",
       "    }\n",
       "\n",
       "    .dataframe thead th {\n",
       "        text-align: right;\n",
       "    }\n",
       "</style>\n",
       "<table border=\"1\" class=\"dataframe\">\n",
       "  <thead>\n",
       "    <tr style=\"text-align: right;\">\n",
       "      <th></th>\n",
       "      <th>Duración</th>\n",
       "    </tr>\n",
       "  </thead>\n",
       "  <tbody>\n",
       "    <tr>\n",
       "      <th>1</th>\n",
       "      <td>6.2364</td>\n",
       "    </tr>\n",
       "    <tr>\n",
       "      <th>2</th>\n",
       "      <td>6.2364</td>\n",
       "    </tr>\n",
       "    <tr>\n",
       "      <th>3</th>\n",
       "      <td>6.2364</td>\n",
       "    </tr>\n",
       "    <tr>\n",
       "      <th>4</th>\n",
       "      <td>6.2364</td>\n",
       "    </tr>\n",
       "    <tr>\n",
       "      <th>5</th>\n",
       "      <td>6.2364</td>\n",
       "    </tr>\n",
       "    <tr>\n",
       "      <th>6</th>\n",
       "      <td>6.2364</td>\n",
       "    </tr>\n",
       "    <tr>\n",
       "      <th>7</th>\n",
       "      <td>6.2364</td>\n",
       "    </tr>\n",
       "    <tr>\n",
       "      <th>8</th>\n",
       "      <td>6.2364</td>\n",
       "    </tr>\n",
       "    <tr>\n",
       "      <th>9</th>\n",
       "      <td>6.2364</td>\n",
       "    </tr>\n",
       "    <tr>\n",
       "      <th>10</th>\n",
       "      <td>6.2364</td>\n",
       "    </tr>\n",
       "  </tbody>\n",
       "</table>\n",
       "</div>"
      ],
      "text/plain": [
       "    Duración\n",
       "1     6.2364\n",
       "2     6.2364\n",
       "3     6.2364\n",
       "4     6.2364\n",
       "5     6.2364\n",
       "6     6.2364\n",
       "7     6.2364\n",
       "8     6.2364\n",
       "9     6.2364\n",
       "10    6.2364"
      ]
     },
     "execution_count": 1,
     "metadata": {},
     "output_type": "execute_result"
    }
   ],
   "source": [
    "import pandas as pd\n",
    "data = pd.Series([6.2364, 6.2364, 6.2364, 6.2364, 6.2364, 6.2364, 6.2364, 6.2364, 6.2364, 6.2364],\n",
    "                 index=['1', '2', '3', '4', '5', '6', '7', '8', '9', '10'])\n",
    "table = pd.DataFrame({'Duración':data})\n",
    "table"
   ]
  },
  {
   "cell_type": "code",
   "execution_count": 2,
   "metadata": {},
   "outputs": [
    {
     "name": "stdout",
     "output_type": "stream",
     "text": [
      "Media:  6.2364\n",
      "Desviación estándar:  8.881784197e-16\n"
     ]
    }
   ],
   "source": [
    "import numpy as np\n",
    "mean = np.mean(data)\n",
    "std = np.std(data)\n",
    "print(\"Media: \", mean)\n",
    "print(\"Desviación estándar: \", std)"
   ]
  }
 ],
 "metadata": {
  "kernelspec": {
   "display_name": "Python 3",
   "language": "python",
   "name": "python3"
  },
  "language_info": {
   "codemirror_mode": {
    "name": "ipython",
    "version": 3
   },
   "file_extension": ".py",
   "mimetype": "text/x-python",
   "name": "python",
   "nbconvert_exporter": "python",
   "pygments_lexer": "ipython3",
   "version": "3.6.6"
  }
 },
 "nbformat": 4,
 "nbformat_minor": 2
}
