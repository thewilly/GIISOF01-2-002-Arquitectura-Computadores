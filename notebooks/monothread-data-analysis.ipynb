{
 "cells": [
  {
   "cell_type": "markdown",
   "metadata": {},
   "source": [
    "# Trabajo en grupo 2018 - Filtros de imágenes"
   ]
  },
  {
   "cell_type": "markdown",
   "metadata": {},
   "source": [
    "## Versión: monohilo"
   ]
  },
  {
   "cell_type": "markdown",
   "metadata": {},
   "source": [
    "## Autores:\n",
    " - Alejandro León Pereira, UO258774.\n",
    " - Álvaro Baños Gomez, UO245853.\n",
    " - Iñaki Salgado Uralde, UO237133.\n",
    " - Guillermo Facundo Colunga, UO236856."
   ]
  },
  {
   "cell_type": "markdown",
   "metadata": {},
   "source": [
    "## Enunciado\n",
    "\n",
    "Programa monohilo secuencial en C/C++ que implemente operaciones vectoriales sobre las componentes de imágenes digitales. El programa monohilo a desarrollar consiste en la implementación básica de las operaciones y se tomará como referencia para el cálculo de las aceleraciones obtenidas en las implementaciones posteriores.\n",
    "\n",
    "> Nota: _Para mejorar la resolución de la medida de intervalos de tiempo, el procesamiento vectorial debería tener una duración entre 5 y 10 segundos, por lo que si una sola ejecución del algoritmo no dura lo suficiente, se repetirá (en bucle) el número de veces necesario para alcanzar esos tiempos._\n",
    "\n",
    "Una vez realizado el programa, éste debe ejecutarse 10 veces en modo Release y calcular la media y la desviación típica del tiempo de respuesta, reflejando todas las medidas obtenidas y las estadísticas en una tabla de la documentación."
   ]
  },
  {
   "cell_type": "markdown",
   "metadata": {},
   "source": [
    "### Representación del problema\n",
    "\n",
    "Para representar las imágenes en C++ utilizaremos la librería CImg con el formato `float`. Esta librería carga la imágen en un único vector compuesto por todas las componentes de la imágen. Pra nuetro problema serán imágenes RGB. De forma que:\n",
    "\n",
    "$$imagen_x = [ r_{x1}, r_{x2}, r_{x3},...,r_{xn}, g_{x1}, g_{x2}, g_{x3},...,g_{xn}, b_{x1}, b_{x2}, b_{x3},...,b_{xn}]$$\n",
    "\n",
    "Para cada componente tenemos $ancho \\cdot alto$ elementos. Para esta fase crearemos 3 punteros para cada imagen, uno para cada componente de la imagen $x$: rojo, verde y azul. Y se inicializan de la siguiente forma:"
   ]
  },
  {
   "cell_type": "markdown",
   "metadata": {},
   "source": [
    "$$rojo_x = r_{x1}$$"
   ]
  },
  {
   "cell_type": "markdown",
   "metadata": {},
   "source": [
    "$$verde_x = g_{x1}$$"
   ]
  },
  {
   "cell_type": "markdown",
   "metadata": {},
   "source": [
    "$$azul_x = b_{x1}$$"
   ]
  },
  {
   "cell_type": "markdown",
   "metadata": {},
   "source": [
    "## Algoritmo a imlementar\n",
    "\n",
    "El algoritmo asignado es el de fusionar dos imágenes con el modo amplitud. Para conseguir el modo amplitud los vectores R' G' y B', que representan las componentes de la imagen resultante, se calculan de la siguente manera:"
   ]
  },
  {
   "cell_type": "markdown",
   "metadata": {},
   "source": [
    "$${R'} = \\frac{\\sqrt{Ra^{2} + Rb^{2}}}{\\sqrt{2}}$$"
   ]
  },
  {
   "cell_type": "markdown",
   "metadata": {},
   "source": [
    "$${G'} = \\frac{\\sqrt{Ga^{2} + Gb^{2}}}{\\sqrt{2}}$$"
   ]
  },
  {
   "cell_type": "markdown",
   "metadata": {},
   "source": [
    "$${B'} = \\frac{\\sqrt{Ba^{2} + Bb^{2}}}{\\sqrt{2}}$$"
   ]
  },
  {
   "cell_type": "markdown",
   "metadata": {},
   "source": [
    "De las fórmulas anteriores se podría extrapolar lasiguiente función de transformación sobre los vectores de información de $imagen_{x}$ e $imagen_{y}$:"
   ]
  },
  {
   "cell_type": "markdown",
   "metadata": {},
   "source": [
    "$$f(imagen_{xi}, imagen_{yi}) = \\left ( \\frac{\\sqrt{imagen_{xi}^{2} + imagen_{yi}^{2}}}{\\sqrt{2}} \\right )$$"
   ]
  },
  {
   "cell_type": "markdown",
   "metadata": {},
   "source": [
    "Y por lo tanto usar un único bucle que recorriera todo el vector de información de las imágenes aplicando la fórmula de transformación anterior. Pero por simplificar, se usarán los punteros anteriormente definidos y las fórmulas individuales de las componentes."
   ]
  },
  {
   "cell_type": "markdown",
   "metadata": {},
   "source": [
    "Para entender mejor el modo de fusión de imágenes puedes leerte este [notebook](image-amplitude-fusion.ipynb)."
   ]
  },
  {
   "cell_type": "markdown",
   "metadata": {},
   "source": [
    "## Entorno de trabajo.\n",
    "\n",
    "Como entorno de trabajo se usará una máquina virtual ubuntu y el IDE Eclipse para C/C++. La máquina virtual se configura con 4 procesadores, que se corresponde con el máximo número de procesadores que contiene el sistema donde se ejecuta la máquina virtual. Dicha configuración se ilustra con la siguiente imágen.\n",
    "\n",
    "![conf_img](https://github.com/thewilly/GIISOF01-2-002-Arquitectura-Computadores/raw/master/notebooks/data/configuration.png)"
   ]
  },
  {
   "cell_type": "markdown",
   "metadata": {},
   "source": [
    "### Algoritmo implementado\n",
    "\n",
    "Para resolver el problema descrito se procede a realizar un algoritmo en p-seudo código que aplique la función de transformación descrita sobre las diferentes componentes individuales de los vectores `R`, `G`y `B`."
   ]
  },
  {
   "cell_type": "markdown",
   "metadata": {},
   "source": [
    "#### Pseudo-código\n",
    "```\n",
    "PARA CADA i DESDE i=0 HASTA i < número_pixeles_imagen\n",
    "        \n",
    "    comp_rojo_img_c[i] = sqrt(comp_rojo_img_a[i]^2 + comp_rojo_img_b[i]^2) / sqrt(2)\n",
    "        \n",
    "    comp_verde_img_c[i] = sqrt(comp_verde_img_a[i]^2 + comp_verde_img_b[i]^2) / sqrt(2)\n",
    "        \n",
    "    comp_azul_img_c[i] = sqrt(comp_azul_img_a[i]^2 + comp_azul_img_b[i]^2) / sqrt(2)\n",
    "```"
   ]
  },
  {
   "cell_type": "markdown",
   "metadata": {},
   "source": [
    "Una vez tenemos el algoritmo diseñado, procederemos implementarlo en C++, por restricciones del proyecto. La siguiente implementación del algoritmo está diseñada para realizar operaciones de forma iterativa sobre los vectores de las distintas componentes. En lugar de tres vectores, uno para componente de las imágenes se emplearán punteros que nos permitirán desplazarnos por el vector de datos de cada imagen."
   ]
  },
  {
   "cell_type": "markdown",
   "metadata": {},
   "source": [
    "#### C++\n",
    "```c++\n",
    "for (int i = 0; i < nPixels; i++) {\n",
    "    *pRnew = sqrtf(pow(*pRcomp_1, 2.0f) + pow(*pRcomp_2, 2.0f)) / SQRT2;\n",
    "    *pGnew = sqrtf(pow(*pGcomp_1, 2.0f) + pow(*pGcomp_2, 2.0f)) / SQRT2;\n",
    "    *pBnew = sqrtf(pow(*pBcomp_1, 2.0f) + pow(*pBcomp_2, 2.0f)) / SQRT2;\n",
    "\n",
    "    pRnew++; pRcomp_1++; pRcomp_2++;\n",
    "    pGnew++; pGcomp_1++; pGcomp_2++;\n",
    "    pBnew++; pBcomp_1++; pBcomp_2++;\n",
    "}\n",
    "```"
   ]
  },
  {
   "cell_type": "markdown",
   "metadata": {},
   "source": [
    "Se puede encontrar la implementación completa en [Main.cpp](https://github.com/thewilly/GIISOF01-2-002-Arquitectura-Computadores/blob/master/Singlethread/Src/Main.cpp).\n",
    "\n",
    "> **Nota**: _Como la ejecucion del algoritmo dura menos de 5 segundos se anida el anterior algoritmo dentro de un bucle for que lo repetirá 3 veces con lo que el tiempo de la ejecución del programa será superior a los 5 segundos, **pero se estará ejecutando el algoritmo 3 veces**._\n",
    "\n",
    "> **Nota**: _En el agortimo anterior se ha realizado en lugar de computar el valor sqrt(2) cada vez que se necesita se abstrae a una constante definida al inicio del Main.cpp._"
   ]
  },
  {
   "cell_type": "markdown",
   "metadata": {},
   "source": [
    "### Análisis del algoritmo implementado\n",
    "Para la ejecución del algoritmo anterior se obtienen los siguientes datos tras realizar 10 ejecuciones en modo release:"
   ]
  },
  {
   "cell_type": "code",
   "execution_count": 1,
   "metadata": {},
   "outputs": [
    {
     "data": {
      "text/html": [
       "<div>\n",
       "<style scoped>\n",
       "    .dataframe tbody tr th:only-of-type {\n",
       "        vertical-align: middle;\n",
       "    }\n",
       "\n",
       "    .dataframe tbody tr th {\n",
       "        vertical-align: top;\n",
       "    }\n",
       "\n",
       "    .dataframe thead th {\n",
       "        text-align: right;\n",
       "    }\n",
       "</style>\n",
       "<table border=\"1\" class=\"dataframe\">\n",
       "  <thead>\n",
       "    <tr style=\"text-align: right;\">\n",
       "      <th></th>\n",
       "      <th>Duración (s)</th>\n",
       "    </tr>\n",
       "  </thead>\n",
       "  <tbody>\n",
       "    <tr>\n",
       "      <th>1</th>\n",
       "      <td>7.203385</td>\n",
       "    </tr>\n",
       "    <tr>\n",
       "      <th>2</th>\n",
       "      <td>7.176692</td>\n",
       "    </tr>\n",
       "    <tr>\n",
       "      <th>3</th>\n",
       "      <td>7.184928</td>\n",
       "    </tr>\n",
       "    <tr>\n",
       "      <th>4</th>\n",
       "      <td>7.125511</td>\n",
       "    </tr>\n",
       "    <tr>\n",
       "      <th>5</th>\n",
       "      <td>7.112396</td>\n",
       "    </tr>\n",
       "    <tr>\n",
       "      <th>6</th>\n",
       "      <td>7.099702</td>\n",
       "    </tr>\n",
       "    <tr>\n",
       "      <th>7</th>\n",
       "      <td>7.109414</td>\n",
       "    </tr>\n",
       "    <tr>\n",
       "      <th>8</th>\n",
       "      <td>7.149219</td>\n",
       "    </tr>\n",
       "    <tr>\n",
       "      <th>9</th>\n",
       "      <td>7.209500</td>\n",
       "    </tr>\n",
       "    <tr>\n",
       "      <th>10</th>\n",
       "      <td>7.171152</td>\n",
       "    </tr>\n",
       "  </tbody>\n",
       "</table>\n",
       "</div>"
      ],
      "text/plain": [
       "    Duración (s)\n",
       "1       7.203385\n",
       "2       7.176692\n",
       "3       7.184928\n",
       "4       7.125511\n",
       "5       7.112396\n",
       "6       7.099702\n",
       "7       7.109414\n",
       "8       7.149219\n",
       "9       7.209500\n",
       "10      7.171152"
      ]
     },
     "execution_count": 1,
     "metadata": {},
     "output_type": "execute_result"
    }
   ],
   "source": [
    "import pandas as pd\n",
    "executions = 3.0\n",
    "data = pd.Series([7.203385, 7.176692, 7.184928, 7.125511, 7.112396, 7.099702, 7.109414, 7.149219, 7.209500, 7.171152],\n",
    "                 index=['1', '2', '3', '4', '5', '6', '7', '8', '9', '10'])\n",
    "table = pd.DataFrame({'Duración (s)':data})\n",
    "table"
   ]
  },
  {
   "cell_type": "code",
   "execution_count": 2,
   "metadata": {},
   "outputs": [
    {
     "name": "stdout",
     "output_type": "stream",
     "text": [
      "Media 3 ejecuciones: 7.1541899 s.\n",
      "Desviación estándar 3 ejecuciones: 0.0384525484915\n",
      "Media 1 ejecución: 2.38472996667 s.\n",
      "Desviación estándar 3 ejecuciones: 0.0128175161638\n"
     ]
    }
   ],
   "source": [
    "import numpy as np\n",
    "mean = np.mean(data)\n",
    "std = np.std(data)\n",
    "print(\"Media 3 ejecuciones:\", mean, \"s.\")\n",
    "print(\"Desviación estándar 3 ejecuciones:\", std)\n",
    "print(\"Media 1 ejecución:\", mean/executions, \"s.\")\n",
    "data = data/executions\n",
    "std = np.std(data)\n",
    "print(\"Desviación estándar 3 ejecuciones:\", std)"
   ]
  }
 ],
 "metadata": {
  "kernelspec": {
   "display_name": "Python 3",
   "language": "python",
   "name": "python3"
  },
  "language_info": {
   "codemirror_mode": {
    "name": "ipython",
    "version": 3
   },
   "file_extension": ".py",
   "mimetype": "text/x-python",
   "name": "python",
   "nbconvert_exporter": "python",
   "pygments_lexer": "ipython3",
   "version": "3.6.6"
  }
 },
 "nbformat": 4,
 "nbformat_minor": 2
}
