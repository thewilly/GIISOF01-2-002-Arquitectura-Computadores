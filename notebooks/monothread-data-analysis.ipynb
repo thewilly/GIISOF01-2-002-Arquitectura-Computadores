{
 "cells": [
  {
   "cell_type": "markdown",
   "metadata": {},
   "source": [
    "# Trabajo en grupo 2018 - Filtros de imágenes"
   ]
  },
  {
   "cell_type": "markdown",
   "metadata": {},
   "source": [
    "## Versión: monohilo"
   ]
  },
  {
   "cell_type": "markdown",
   "metadata": {},
   "source": [
    "### Autores:\n",
    " - Alejandro León Pereira, UO258774.\n",
    " - Álvaro Baños Gomez, UO245853.\n",
    " - Iñaki Salgado Uralde, UO237133.\n",
    " - Guillermo Facundo Colunga, UO236856."
   ]
  },
  {
   "cell_type": "markdown",
   "metadata": {},
   "source": [
    "### Enunciado\n",
    "\n",
    "Programa monohilo secuencial en C/C++ que implemente operaciones vectoriales sobre las componentes de imágenes digitales. El programa monohilo a desarrollar consiste en la implementación básica de las operaciones y se tomará como referencia para el cálculo de las aceleraciones obtenidas en las implementaciones posteriores.\n",
    "\n",
    "> Nota: _Para mejorar la resolución de la medida de intervalos de tiempo, el procesamiento vectorial debería tener una duración entre 5 y 10 segundos, por lo que si una sola ejecución del algoritmo no dura lo suficiente, se repetirá (en bucle) el número de veces necesario para alcanzar esos tiempos._\n",
    "\n",
    "Una vez realizado el programa, éste debe ejecutarse 10 veces en modo Release y calcular la media y la desviación típica del tiempo de respuesta, reflejando todas las medidas obtenidas y las estadísticas en una tabla de la documentación."
   ]
  },
  {
   "cell_type": "markdown",
   "metadata": {},
   "source": [
    "#### Representación del problema\n",
    "\n",
    "Para representar las imágenes en C++ utilizaremos la librería CImg con el formato `float`. Esta librería carga la imágen en un único vector compuesto por todas las componentes de la imágen. Pra nuetro problema serán imágenes RGB. De forma que:\n",
    "\n",
    "$$imagen_x = [ r_{x1}, r_{x2}, r_{x3},...,r_{xn}, g_{x1}, g_{x2}, g_{x3},...,g_{xn}, b_{x1}, b_{x2}, b_{x3},...,b_{xn}]$$\n",
    "\n",
    "Para cada componente tenemos $ancho \\cdot alto$ elementos. Para esta fase crearemos 3 punteros para cada imagen, uno para cada componente de la imagen $x$: rojo, verde y azul. Y se inicializan de la siguiente forma:"
   ]
  },
  {
   "cell_type": "markdown",
   "metadata": {},
   "source": [
    "$$rojo_x = r_{x1}$$"
   ]
  },
  {
   "cell_type": "markdown",
   "metadata": {},
   "source": [
    "$$verde_x = g_{x1}$$"
   ]
  },
  {
   "cell_type": "markdown",
   "metadata": {},
   "source": [
    "$$azul_x = b_{x1}$$"
   ]
  },
  {
   "cell_type": "markdown",
   "metadata": {},
   "source": [
    "### Algoritmo a imlementar\n",
    "\n",
    "El algoritmo asignado es el de fusionar dos imágenes con el modo amplitud. Para conseguir el modo amplitud los vectores R' G' y B', que representan las componentes de la imagen resultante, se calculan de la siguente manera:"
   ]
  },
  {
   "cell_type": "markdown",
   "metadata": {},
   "source": [
    "$${R'} = \\frac{\\sqrt{Ra^{2} + Rb^{2}}}{\\sqrt{2}}$$"
   ]
  },
  {
   "cell_type": "markdown",
   "metadata": {},
   "source": [
    "$${G'} = \\frac{\\sqrt{Ga^{2} + Gb^{2}}}{\\sqrt{2}}$$"
   ]
  },
  {
   "cell_type": "markdown",
   "metadata": {},
   "source": [
    "$${B'} = \\frac{\\sqrt{Ba^{2} + Bb^{2}}}{\\sqrt{2}}$$"
   ]
  },
  {
   "cell_type": "markdown",
   "metadata": {},
   "source": [
    "De las fórmulas anteriores se podría extrapolar lasiguiente función de transformación sobre los vectores de información de $imagen_{x}$ e $imagen_{y}$:"
   ]
  },
  {
   "cell_type": "markdown",
   "metadata": {},
   "source": [
    "$$f(imagen_{xi}, imagen_{yi}) = \\left ( \\frac{\\sqrt{imagen_{xi}^{2} + imagen_{yi}^{2}}}{\\sqrt{2}} \\right )$$"
   ]
  },
  {
   "cell_type": "markdown",
   "metadata": {},
   "source": [
    "Y por lo tanto usar un único bucle que recorriera todo el vector de información de las imágenes aplicando la fórmula de transformación anterior. Pero por simplificar, se usarán los punteros anteriormente definidos y las fórmulas individuales de las componentes."
   ]
  },
  {
   "cell_type": "markdown",
   "metadata": {},
   "source": [
    "Para entender mejor el modo de fusión de imágenes puedes leerte este [notebook](image-amplitude-fusion.ipynb)."
   ]
  },
  {
   "cell_type": "markdown",
   "metadata": {},
   "source": [
    "### Entorno de trabajo.\n",
    "\n",
    "Como entorno de trabajo se usará una máquina virtual ubuntu y el IDE Eclipse para C/C++. A continuación se explica como se configura dicha máquina virtual.\n",
    "\n",
    "Se configura la máquina virtual con 4 procesadores, que se corresponde con el máximo del sistema, como se puede observar en la siguiente imagen:\n",
    "\n",
    "![conf_img](data/configuration.png)\n",
    "\n",
    "#### Información del sistema (cpu-info):\n",
    "\n",
    "```\n",
    "processor\t: 0\n",
    "vendor_id\t: GenuineIntel\n",
    "cpu family\t: 6\n",
    "model\t\t: 58\n",
    "model name\t: Intel(R) Core(TM) i7-3770 CPU @ 3.40GHz\n",
    "stepping\t: 9\n",
    "microcode\t: 0x19\n",
    "cpu MHz\t\t: 3392.270\n",
    "cache size\t: 8192 KB\n",
    "physical id\t: 0\n",
    "siblings\t: 4\n",
    "core id\t\t: 0\n",
    "cpu cores\t: 4\n",
    "apicid\t\t: 0\n",
    "initial apicid\t: 0\n",
    "fpu\t\t: yes\n",
    "fpu_exception\t: yes\n",
    "cpuid level\t: 13\n",
    "wp\t\t: yes\n",
    "flags\t\t: fpu vme de pse tsc msr pae mce cx8 apic sep mtrr pge mca cmov pat pse36 clflush mmx fxsr sse sse2 ht syscall nx rdtscp lm constant_tsc rep_good nopl xtopology nonstop_tsc cpuid pni pclmulqdq ssse3 cx16 pcid sse4_1 sse4_2 x2apic popcnt aes xsave avx rdrand hypervisor lahf_lm pti fsgsbase flush_l1d\n",
    "bugs\t\t: cpu_meltdown spectre_v1 spectre_v2 spec_store_bypass l1tf\n",
    "bogomips\t: 6784.54\n",
    "clflush size\t: 64\n",
    "cache_alignment\t: 64\n",
    "address sizes\t: 36 bits physical, 48 bits virtual\n",
    "power management:\n",
    "\n",
    "processor\t: 1\n",
    "vendor_id\t: GenuineIntel\n",
    "cpu family\t: 6\n",
    "model\t\t: 58\n",
    "model name\t: Intel(R) Core(TM) i7-3770 CPU @ 3.40GHz\n",
    "stepping\t: 9\n",
    "microcode\t: 0x19\n",
    "cpu MHz\t\t: 3392.270\n",
    "cache size\t: 8192 KB\n",
    "physical id\t: 0\n",
    "siblings\t: 4\n",
    "core id\t\t: 1\n",
    "cpu cores\t: 4\n",
    "apicid\t\t: 1\n",
    "initial apicid\t: 1\n",
    "fpu\t\t: yes\n",
    "fpu_exception\t: yes\n",
    "cpuid level\t: 13\n",
    "wp\t\t: yes\n",
    "flags\t\t: fpu vme de pse tsc msr pae mce cx8 apic sep mtrr pge mca cmov pat pse36 clflush mmx fxsr sse sse2 ht syscall nx rdtscp lm constant_tsc rep_good nopl xtopology nonstop_tsc cpuid pni pclmulqdq ssse3 cx16 pcid sse4_1 sse4_2 x2apic popcnt aes xsave avx rdrand hypervisor lahf_lm pti fsgsbase flush_l1d\n",
    "bugs\t\t: cpu_meltdown spectre_v1 spectre_v2 spec_store_bypass l1tf\n",
    "bogomips\t: 6784.54\n",
    "clflush size\t: 64\n",
    "cache_alignment\t: 64\n",
    "address sizes\t: 36 bits physical, 48 bits virtual\n",
    "power management:\n",
    "\n",
    "processor\t: 2\n",
    "vendor_id\t: GenuineIntel\n",
    "cpu family\t: 6\n",
    "model\t\t: 58\n",
    "model name\t: Intel(R) Core(TM) i7-3770 CPU @ 3.40GHz\n",
    "stepping\t: 9\n",
    "microcode\t: 0x19\n",
    "cpu MHz\t\t: 3392.270\n",
    "cache size\t: 8192 KB\n",
    "physical id\t: 0\n",
    "siblings\t: 4\n",
    "core id\t\t: 2\n",
    "cpu cores\t: 4\n",
    "apicid\t\t: 2\n",
    "initial apicid\t: 2\n",
    "fpu\t\t: yes\n",
    "fpu_exception\t: yes\n",
    "cpuid level\t: 13\n",
    "wp\t\t: yes\n",
    "flags\t\t: fpu vme de pse tsc msr pae mce cx8 apic sep mtrr pge mca cmov pat pse36 clflush mmx fxsr sse sse2 ht syscall nx rdtscp lm constant_tsc rep_good nopl xtopology nonstop_tsc cpuid pni pclmulqdq ssse3 cx16 pcid sse4_1 sse4_2 x2apic popcnt aes xsave avx rdrand hypervisor lahf_lm pti fsgsbase flush_l1d\n",
    "bugs\t\t: cpu_meltdown spectre_v1 spectre_v2 spec_store_bypass l1tf\n",
    "bogomips\t: 6784.54\n",
    "clflush size\t: 64\n",
    "cache_alignment\t: 64\n",
    "address sizes\t: 36 bits physical, 48 bits virtual\n",
    "power management:\n",
    "\n",
    "processor\t: 3\n",
    "vendor_id\t: GenuineIntel\n",
    "cpu family\t: 6\n",
    "model\t\t: 58\n",
    "model name\t: Intel(R) Core(TM) i7-3770 CPU @ 3.40GHz\n",
    "stepping\t: 9\n",
    "microcode\t: 0x19\n",
    "cpu MHz\t\t: 3392.270\n",
    "cache size\t: 8192 KB\n",
    "physical id\t: 0\n",
    "siblings\t: 4\n",
    "core id\t\t: 3\n",
    "cpu cores\t: 4\n",
    "apicid\t\t: 3\n",
    "initial apicid\t: 3\n",
    "fpu\t\t: yes\n",
    "fpu_exception\t: yes\n",
    "cpuid level\t: 13\n",
    "wp\t\t: yes\n",
    "flags\t\t: fpu vme de pse tsc msr pae mce cx8 apic sep mtrr pge mca cmov pat pse36 clflush mmx fxsr sse sse2 ht syscall nx rdtscp lm constant_tsc rep_good nopl xtopology nonstop_tsc cpuid pni pclmulqdq ssse3 cx16 pcid sse4_1 sse4_2 x2apic popcnt aes xsave avx rdrand hypervisor lahf_lm pti fsgsbase flush_l1d\n",
    "bugs\t\t: cpu_meltdown spectre_v1 spectre_v2 spec_store_bypass l1tf\n",
    "bogomips\t: 6784.54\n",
    "clflush size\t: 64\n",
    "cache_alignment\t: 64\n",
    "address sizes\t: 36 bits physical, 48 bits virtual\n",
    "power management:\n",
    "```"
   ]
  },
  {
   "cell_type": "markdown",
   "metadata": {},
   "source": [
    "### Algoritmo implementado\n",
    "Para resolver el problema anterior se implementa el siguiente algoritmo en c++ que se incluye en la clase [Main.cpp](https://github.com/thewilly/GIISOF01-2-002-Arquitectura-Computadores/blob/master/Singlethread/Src/Main.cpp) del proyecto Singlethread proporcionado.\n",
    "\n",
    "\n",
    "#### Pseudo-código\n",
    "```\n",
    "PARA CADA i DESDE i=0 HASTA i < número_pixeles_imagen\n",
    "        \n",
    "    comp_rojo_img_c[i] = sqrt(comp_rojo_img_a[i]^2 + comp_rojo_img_b[i]^2) / sqrt(2)\n",
    "        \n",
    "    comp_verde_img_c[i] = sqrt(comp_verde_img_a[i]^2 + comp_verde_img_b[i]^2) / sqrt(2)\n",
    "        \n",
    "    comp_azul_img_c[i] = sqrt(comp_azul_img_a[i]^2 + comp_azul_img_b[i]^2) / sqrt(2)\n",
    "```\n",
    "\n",
    "#### C++\n",
    "```c++\n",
    "for (int i = 0; i < nPixels; i++) {\n",
    "    *pRnew = sqrtf(pow(*pRcomp_1, 2.0f) + pow(*pRcomp_2, 2.0f)) / SQRT2;\n",
    "    *pGnew = sqrtf(pow(*pGcomp_1, 2.0f) + pow(*pGcomp_2, 2.0f)) / SQRT2;\n",
    "    *pBnew = sqrtf(pow(*pBcomp_1, 2.0f) + pow(*pBcomp_2, 2.0f)) / SQRT2;\n",
    "\n",
    "    pRnew++; pRcomp_1++; pRcomp_2++;\n",
    "    pGnew++; pGcomp_1++; pGcomp_2++;\n",
    "    pBnew++; pBcomp_1++; pBcomp_2++;\n",
    "}\n",
    "```\n",
    "\n",
    "> **Nota**: _Como la ejecucion del algoritmo dura menos de 5 segundos se anida el anterior algoritmo dentro de un bucle for que lo repetirá 3 veces con lo que el tiempo de la ejecución del programa será superior a los 5 segundos, **pero se estará ejecutando el algoritmo 3 veces**._\n",
    "\n",
    "> **Nota**: _En el agortimo anterior se ha realizado en lugar de computar el valor sqrt(2) cada vez que se necesita se abstrae a una constante definida al inicio del Main.cpp._\n",
    "\n",
    "#### Explicación del algoritmo\n",
    "El algoritmo anterior lo que hace es recorrer las imágenes pixel a pixel, para ello se emplean dos bucles `for`, uno para la altura y otro para la anchura de las imágenes. A continuación para cada pixel `i` se realiza la operación indicada para fusionar imágenes con el modo amplitud: `c[i] = sqrt(a[i]^2 + b[i]^2) / sqrt(2)`."
   ]
  },
  {
   "cell_type": "markdown",
   "metadata": {},
   "source": [
    "### Análisis del algoritmo implementado\n",
    "Para la ejecución del algoritmo anterior se obtienen los siguientes datos tras realizar 10 ejecuciones en modo release:"
   ]
  },
  {
   "cell_type": "code",
   "execution_count": 1,
   "metadata": {},
   "outputs": [
    {
     "data": {
      "text/html": [
       "<div>\n",
       "<style scoped>\n",
       "    .dataframe tbody tr th:only-of-type {\n",
       "        vertical-align: middle;\n",
       "    }\n",
       "\n",
       "    .dataframe tbody tr th {\n",
       "        vertical-align: top;\n",
       "    }\n",
       "\n",
       "    .dataframe thead th {\n",
       "        text-align: right;\n",
       "    }\n",
       "</style>\n",
       "<table border=\"1\" class=\"dataframe\">\n",
       "  <thead>\n",
       "    <tr style=\"text-align: right;\">\n",
       "      <th></th>\n",
       "      <th>Duración (s)</th>\n",
       "    </tr>\n",
       "  </thead>\n",
       "  <tbody>\n",
       "    <tr>\n",
       "      <th>1</th>\n",
       "      <td>7.203385</td>\n",
       "    </tr>\n",
       "    <tr>\n",
       "      <th>2</th>\n",
       "      <td>7.176692</td>\n",
       "    </tr>\n",
       "    <tr>\n",
       "      <th>3</th>\n",
       "      <td>7.184928</td>\n",
       "    </tr>\n",
       "    <tr>\n",
       "      <th>4</th>\n",
       "      <td>7.125511</td>\n",
       "    </tr>\n",
       "    <tr>\n",
       "      <th>5</th>\n",
       "      <td>7.112396</td>\n",
       "    </tr>\n",
       "    <tr>\n",
       "      <th>6</th>\n",
       "      <td>7.099702</td>\n",
       "    </tr>\n",
       "    <tr>\n",
       "      <th>7</th>\n",
       "      <td>7.109414</td>\n",
       "    </tr>\n",
       "    <tr>\n",
       "      <th>8</th>\n",
       "      <td>7.149219</td>\n",
       "    </tr>\n",
       "    <tr>\n",
       "      <th>9</th>\n",
       "      <td>7.209500</td>\n",
       "    </tr>\n",
       "    <tr>\n",
       "      <th>10</th>\n",
       "      <td>7.171152</td>\n",
       "    </tr>\n",
       "  </tbody>\n",
       "</table>\n",
       "</div>"
      ],
      "text/plain": [
       "    Duración (s)\n",
       "1       7.203385\n",
       "2       7.176692\n",
       "3       7.184928\n",
       "4       7.125511\n",
       "5       7.112396\n",
       "6       7.099702\n",
       "7       7.109414\n",
       "8       7.149219\n",
       "9       7.209500\n",
       "10      7.171152"
      ]
     },
     "execution_count": 1,
     "metadata": {},
     "output_type": "execute_result"
    }
   ],
   "source": [
    "import pandas as pd\n",
    "executions = 3.0\n",
    "data = pd.Series([7.203385, 7.176692, 7.184928, 7.125511, 7.112396, 7.099702, 7.109414, 7.149219, 7.209500, 7.171152],\n",
    "                 index=['1', '2', '3', '4', '5', '6', '7', '8', '9', '10'])\n",
    "table = pd.DataFrame({'Duración (s)':data})\n",
    "table"
   ]
  },
  {
   "cell_type": "code",
   "execution_count": 2,
   "metadata": {},
   "outputs": [
    {
     "name": "stdout",
     "output_type": "stream",
     "text": [
      "Media 3 ejecuciones: 7.154189900000001 s.\n",
      "Desviación estándar 3 ejecuciones: 0.03845254849148494\n",
      "Media 1 ejecución: 2.3847299666666673 s.\n",
      "Desviación estándar 3 ejecuciones: 0.012817516163828344\n"
     ]
    }
   ],
   "source": [
    "import numpy as np\n",
    "mean = np.mean(data)\n",
    "std = np.std(data)\n",
    "print(\"Media 3 ejecuciones:\", mean, \"s.\")\n",
    "print(\"Desviación estándar 3 ejecuciones:\", std)\n",
    "print(\"Media 1 ejecución:\", mean/executions, \"s.\")\n",
    "data = data/executions\n",
    "std = np.std(data)\n",
    "print(\"Desviación estándar 3 ejecuciones:\", std)"
   ]
  }
 ],
 "metadata": {
  "kernelspec": {
   "display_name": "Python 3",
   "language": "python",
   "name": "python3"
  },
  "language_info": {
   "codemirror_mode": {
    "name": "ipython",
    "version": 3
   },
   "file_extension": ".py",
   "mimetype": "text/x-python",
   "name": "python",
   "nbconvert_exporter": "python",
   "pygments_lexer": "ipython3",
   "version": "3.6.6"
  }
 },
 "nbformat": 4,
 "nbformat_minor": 2
}
