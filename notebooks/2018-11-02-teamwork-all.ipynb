{
 "cells": [
  {
   "cell_type": "markdown",
   "metadata": {},
   "source": [
    "# Trabajo en grupo 2018 - Filtros de imágenes\n",
    "_Arquitectura de Computadores, 2018._"
   ]
  },
  {
   "cell_type": "markdown",
   "metadata": {},
   "source": [
    "## Autores:\n",
    " - Álvaro Baños Gomez, UO245852.\n",
    " - Guillermo Facundo Colunga, UO236856.\n",
    " - Alejandro León Pereira, UO258774.\n",
    " - Iñaki Salgado Uralde, UO237133."
   ]
  },
  {
   "cell_type": "markdown",
   "metadata": {},
   "source": [
    "# Sumario\n",
    "--------------\n",
    "* [Introducción](#Introducción)\n",
    " - [Entorno de trabajo](#Entorno-de-trabajo)\n",
    " - [Problema a resolver](#Problema-a-resolver)\n",
    "* [Algoritmo de fusión de imágenes](#Algoritmo-de-fusión-de-imágenes)\n",
    " - [Definición]()\n",
    " - [Función general de transformación]()\n",
    " - [Análisis de la fgt]()\n",
    "* [Versión monohilo secuencial]()\n",
    " - [Pseudocódigo]()\n",
    " - [Análisis del algoritmo implementado]()\n",
    " - [Conclusiones]()\n",
    "* [Versión monohilo SIMD]()\n",
    " - [Instrucciones SIMD soportadas]()\n",
    " - [Algoritmo SIMD]()\n",
    "   - [Pseudocódigo]()\n",
    " - [Análisis del algoritmo implementado]()\n",
    " - [Conclusiones]()\n",
    "* [Versión multihilo]()\n",
    " - [Concurrencia del sistema de prueba]()\n",
    " - [Algoritmo multihilo]()\n",
    "   - [Worker]()\n",
    "   - [WorkerInfo]()\n",
    "   - [Pseudocódigo]()\n",
    " - [Análisis del algoritmo implementado]()\n",
    " - [Conclusiones]()\n",
    "* [Conclusiones generales]()\n",
    " \n",
    " \n",
    "\n",
    "---------------"
   ]
  },
  {
   "cell_type": "markdown",
   "metadata": {},
   "source": [
    "# Introducción\n",
    "\n",
    "Durante el curso de Arquitectura de Computadores de la Universidad de Oviedo 2018 se propone un trabajo en grupos sobre el alumnado en el cual tendrán que realizar la implementación de un problema con distintos métodos: un algoritmo secuencial, uno que emple instrucciones SIMD y por último uno multihilo. Y a continuación realizar un análisis de los resultados obtenidos e ilustrar las mejoras de rendimiento que pueden obtenerse con los distintos métodos implementados.\n",
    "\n",
    "Para ello se expondrá: el problema que resolvió este grupo, el entorno de trabajo sobre el que se implmentó y tomaron las medidas de tiempo, las diferentes implementaciones realizadas y las conclusiones individuales y generales de las distintas versiones de la solución."
   ]
  },
  {
   "cell_type": "markdown",
   "metadata": {},
   "source": [
    "## Problema a resolver\n",
    "\n",
    "Para este grupo el problema a resolver era el de fusionar dos imágenes RGB que el programa recibía de entrada emplenado el método de fusión por amplitud y obtener una imagen resultante de la fusión en la que cada valor de las componentes RGB esté en tipo `float`.\n",
    "\n",
    "Para resolver este problema debemos de plantearnos dos preguntas, la primera es cómo representar la imagen en el ordenador y la segunda, qué es el método de fusión por amplitud. Una vez estas dos preguntas estén resultas tan sólo quedará la implementación."
   ]
  },
  {
   "cell_type": "markdown",
   "metadata": {},
   "source": [
    "### Representación de imágenes"
   ]
  },
  {
   "cell_type": "markdown",
   "metadata": {},
   "source": [
    "Para saber como se representa una imagen en el ordenador debemos de imaginar que una imagen no es mas que una matriz de valores. Entonces, una abstracción de una matriz es una lista en la que todas sus filas están puestas una detrás de otra."
   ]
  },
  {
   "cell_type": "markdown",
   "metadata": {},
   "source": [
    "$$\\begin{bmatrix}\n",
    "1 & 2 & 3\\\\ \n",
    "4 & 5 & 6 \\\\ \n",
    "7 & 8  & 9\n",
    "\\end{bmatrix} = \\left [ 1 \\ 2\\ 3\\ 4\\ 5\\ 6\\ 7\\ 8\\ 9\\ \\right ]$$"
   ]
  },
  {
   "cell_type": "markdown",
   "metadata": {},
   "source": [
    "Entonces, una imagen RGB está compuesta por 3 matrices, una para los valores de R (color rojo), otra para los valores de G (color verde) y otra para los valores de B (color azul). De forma que el pixel $(0,0)$ estaría compuesto por los valores $R[0,0]$, $G[0,0]$, $B[0,0]$.\n",
    "\n",
    "Pero sabemos que una matriz se puede representar como una lista de sus filas. Entonces 3 matrices se pueden representar como una única lista de todas sus filas. \n",
    "\n",
    "$$\\begin{bmatrix}\n",
    "1 & 2\\\\ \n",
    "3 & 4\n",
    "\\end{bmatrix} \\begin{bmatrix}\n",
    "5 & 6\\\\ \n",
    "7 & 8\n",
    "\\end{bmatrix} \\begin{bmatrix}\n",
    "9 & 10\\\\ \n",
    "11 & 12\n",
    "\\end{bmatrix} = \\left [ 1\\ 2\\ 3\\ 4\\ 5\\ 6\\ 7\\ 8\\ 9\\ 10\\ 11\\ 12 \\right ]$$"
   ]
  },
  {
   "cell_type": "markdown",
   "metadata": {},
   "source": [
    "Por lo tanto una imagen se representará como una única lista o vector en la que están todas sus componentes. Como se puede ver en el siguiente ejemplo donde tenemos un vector compuesto por los valores de la componente R de la imagen, a continuación los valores de la componente G y finalmente los valores de la componente B.\n",
    "\n",
    "$$v = [\\ r_{1},\\ r_{2},\\ r_{3},\\ ...,\\ r_{n},\\ g_{1},\\ g_{2},\\ g_{3},\\ ...,\\ g_{n},\\ b_{1},\\ b_{2},\\ b_{3},\\ ...,\\ b_{n}\\ ]$$"
   ]
  },
  {
   "cell_type": "markdown",
   "metadata": {},
   "source": [
    "### Método de fusión por amplitud"
   ]
  },
  {
   "cell_type": "markdown",
   "metadata": {},
   "source": [
    "Ahora que ya sabemos como se representa una imagen ya podemos aplicar operaciones sobre ella y por tanto definir el método de fusión por amplitud.\n",
    "\n",
    "Pero primero debemos de saber lo que es la amplitud. La amplitud es la medida que se emplea para indicar el valor de una componente en un pixel determinado.\n",
    "\n",
    "Por tanto, la fusión po amplitud se define como,\n",
    "\n",
    "$$(R{_{3}}, G{_{3}}, B{_{3}}) = \\left ( \\frac{\\sqrt{R{_{1}}^{2} + R{_{2}}^{2}}}{\\sqrt{2}},  \\frac{\\sqrt{G{_{1}}^{2} + G{_{2}}^{2}}}{\\sqrt{2}}, \\frac{\\sqrt{B{_{1}}^{2} + B{_{2}}^{2}}}{\\sqrt{2}} \\right )$$"
   ]
  },
  {
   "cell_type": "markdown",
   "metadata": {},
   "source": [
    "Donde 1 y 2 representan las imágenes de entrada y 3 la imágen de salida. Así pues se debe de aplicar esta fórmula para obtener cada pixel de la imagen fusionada (compuesto por 3 valores, R, G y B).\n",
    "\n",
    "Sin embargo esta fórmula puede simplificarse mucho si tenemos en cuenta como representamos las imágenes en el ordenador. Recordemos que una imagen es un vector donde están comprendidas todas sus componentes. Y si observamos la fórmula de fusión por amplitud nos damos cuenta de que siempre se emplea la misma operación sobre las firerentes componentes. Por lo tanto podemos definir una **función general de transfomación** que en lugar de tener en cuenta compoenntes trabaje sobre todos los elementos de las listas que forman las imágenes de entrada y salida. \n",
    "\n",
    "De esta forma la función general de transformación se define cómo,\n",
    "\n",
    "$$imagenSalida[i] =\\frac{\\sqrt{imagenEntrada1[i]^{2} + imagenEntrada2[i]^{2}}}{\\sqrt{2}}$$"
   ]
  },
  {
   "cell_type": "markdown",
   "metadata": {},
   "source": [
    "Así mismo como material adicional y para entender mejor nosotros el método de fusión por amplitud hemos realizado este notebook ( [ipynb](image-amplitude-fusion.ipynb), [html](image-amplitude-fusion.html) ) que seguro resultará de ayuda para comprender todos los aspectos del metodo de fusión por amplitud. En él se explica y analiza la función de transformación."
   ]
  },
  {
   "cell_type": "markdown",
   "metadata": {},
   "source": [
    "# Entorno de trabajo\n",
    "\n",
    "Para llevar a cabo este trabajo en grupo los profesores de la asignatura facilitaron una máquina virtual ubuntu pre-configurada y con proyectos de ejemplo. Sin embargo cada equipo ha de realizar una pequeña configuración dependiendo del equipo físico (host) donde se vaya a ejecutar la M.V. Dichas configuraciones afectarán tanto a la implementación como a la ejecución y análisis de las soluciones. Por tanto, en este apartado se muestra la configuación empleada sobre la que se dearrollaron y analizaron las soluciones."
   ]
  },
  {
   "cell_type": "markdown",
   "metadata": {},
   "source": [
    "## Configuración máquina virtual\n",
    "\n",
    "Como entorno de trabajo se usará una máquina virtual ubuntu y el IDE Eclipse para C/C++. La máquina virtual se configura con 4 procesadores, que se corresponde con el máximo número de procesadores que contiene el sistema donde se ejecuta la máquina virtual. Dicha configuración se ilustra con la siguiente imágen.\n",
    "\n",
    "![conf_img](https://github.com/thewilly/GIISOF01-2-002-Arquitectura-Computadores/raw/master/notebooks/data/configuration.png)\n",
    "\n",
    "Para ver la configuración final de la cpu de la máquina virtual encontrarás el archo cpu-info en el directorio `/data`.\n",
    "\n",
    "## Características máquina virtual\n",
    "\n",
    "Pese a que esta información puede ser encontrada en el archivo cpu-info en el directorio `/data` aquí se destacan aquellos aspectos que más influirán en las implementaciones y ejeciciones de las soluciones.\n",
    "\n",
    "**Procesador:** Intel(R) Core(TM) i7-3770 CPU @ 3.40GHz\n",
    "**Memoria base:** 32768 MB\n",
    "\n",
    "**Instrucciones SIMD soportadas:**\n",
    " - MMX: Si\n",
    " - SSE: Si\n",
    " - SSE2: Si\n",
    " - SSE3: Si\n",
    " - SSSE3: Si\n",
    " - SSE4.1: Si\n",
    " - SSE4.2: Si\n",
    " - AVX: Si\n",
    " - AVX2: No\n",
    " - AVX-512F: No\n",
    " \n",
    "**Nivel de concurrencia del sistema:**\n",
    " \n",
    "De los apartados anteriores y de la página del [fabricante](https://ark.intel.com/es/products/65719/Intel-Core-i7-3770-Processor-8M-Cache-up-to-3-90-GHz-) podemos saber que nuestro procesador tiene 4 núcleos y que cada núcleo es capaz de ejecutar 2 hilos de forma simultanea sin emplear tiempo compartido (Hyper-Threading). Por lo tanto tenemos 1 Procesador x 4 Núcleos x 2 Hilos/Núcleo = 8 Hilos.\n",
    " \n",
    "Esto signifoca que podemos usar 8 hilos de forma simultanea sin emplear tiempo compartido."
   ]
  },
  {
   "cell_type": "markdown",
   "metadata": {},
   "source": [
    "# Soluciones implementadas\n",
    "\n",
    "Como se comentada en la introducción uno de los objetivos de este trabajo en grupo era el de implementar una solución al problema usando diferentes técnicas. Cada técnica da lugar a un algortimo diferente pero con la misma semántica y por lo tanto tendremos un algoritmo secuencial, uno secuencial con instrucciones SIMD y uno multi-hilo. En este apartado estudiaremos las firefentes implementaciones realizadas para cada uno de estos algoritmos.\n",
    "\n",
    "> Una noción muy importante a tener en cuenta en todas las implementaciones es que las imágenes de entrada y salida tendrán el mismo tamaño, es decir ancho, alto y nº de componentes. Por lo tanto si las imágenes de entrada tienen distinto tamaño el programa terminará de forma controlada y advirtiendo al usuario del error encontrado."
   ]
  },
  {
   "cell_type": "markdown",
   "metadata": {},
   "source": [
    "## Algoritmo monohilo secuencial\n",
    "\n",
    "Un algortimo monohilo secuencial es aquel que emplea un único hilo de ejecución y las instrucciones que realiza se ejecutan una detras de otra, esperando a que la instrucción anterior termine para ejecutar la siguiente.\n",
    "\n",
    "Por lo tanto y con la función general de transformación que habíamos realizado durante la introducción un algortimo secuencial monohilo sería aquel que para cada elemento del vector de la imágen de salida ejecutase la función general de transformación."
   ]
  },
  {
   "cell_type": "markdown",
   "metadata": {},
   "source": [
    "### Pseudocódigo\n",
    "```\n",
    "PARA CADA elemento DEL VECTOR DE LA IMAGEN DE SALIDA\n",
    "  elemento = sqrt(imagen_entrada1[elemento]^2 + imagen_entrada2[elemento]^2) / sqrt(2)\n",
    "```"
   ]
  },
  {
   "cell_type": "markdown",
   "metadata": {},
   "source": [
    "Una vez tenemos el algortimo diseñado en pseudocódigo procedemos a realizar su implmentación en C++."
   ]
  },
  {
   "cell_type": "markdown",
   "metadata": {},
   "source": [
    "### C++\n",
    "```c++\n",
    "for (int i = 0; i < imagesSize; i++) {\n",
    "    p_outputImage[i] = \n",
    "        sqrtf(pow(p_inputImage1[i], 2.0f) + pow(p_inputImage2[i], 2.0f)) / SQRT2;\n",
    "}\n",
    "```"
   ]
  },
  {
   "cell_type": "markdown",
   "metadata": {},
   "source": [
    "Se puede encontrar la implementación completa en [Main.cpp](https://github.com/thewilly/GIISOF01-2-002-Arquitectura-Computadores/blob/master/Singlethread/Src/Main.cpp)."
   ]
  },
  {
   "cell_type": "markdown",
   "metadata": {},
   "source": [
    "> **Nota**: _Como la ejecucion del algoritmo anterior dura menos de 5 segundos se anida dentro de un bucle `for` que lo repetirá 25 veces. Con lo que el tiempo de la ejecución del programa será superior a los 5 segundos, **pero se estará ejecutando el algoritmo 25 veces**._\n",
    "\n",
    "> **Nota**: _En el agortimo anterior se ha realizado una pequeña optimización sacando factor común a sqrt(2) fuera del bucle. Por lo que este valor no se computa cada vez que se necesita si no que se define en una constante al inicio del Main.cpp._\n",
    "\n",
    "> **Nota**: _Como se puede ver en el algoritmo no se realiza ningún tipo de validación sobre los datos resultantes de aplicar la función de transformación, esto es, por que durante el análisis se probó que para valores de entrada en un rango [0.0, ..., 255.0] los valores resultantes estarán siempre comprendidos en ese mismo rango._"
   ]
  },
  {
   "cell_type": "markdown",
   "metadata": {},
   "source": [
    "## Análisis del algoritmo implementado\n",
    "Para el algoritmo anterior se obtienen los siguientes datos tras realizar 10 ejecuciones en modo release:"
   ]
  },
  {
   "cell_type": "code",
   "execution_count": 43,
   "metadata": {},
   "outputs": [
    {
     "data": {
      "text/html": [
       "<div>\n",
       "<style scoped>\n",
       "    .dataframe tbody tr th:only-of-type {\n",
       "        vertical-align: middle;\n",
       "    }\n",
       "\n",
       "    .dataframe tbody tr th {\n",
       "        vertical-align: top;\n",
       "    }\n",
       "\n",
       "    .dataframe thead th {\n",
       "        text-align: right;\n",
       "    }\n",
       "</style>\n",
       "<table border=\"1\" class=\"dataframe\">\n",
       "  <thead>\n",
       "    <tr style=\"text-align: right;\">\n",
       "      <th></th>\n",
       "      <th>Duración (s) X 3 Ejecuciones</th>\n",
       "    </tr>\n",
       "  </thead>\n",
       "  <tbody>\n",
       "    <tr>\n",
       "      <th>1</th>\n",
       "      <td>5.508572</td>\n",
       "    </tr>\n",
       "    <tr>\n",
       "      <th>2</th>\n",
       "      <td>5.464005</td>\n",
       "    </tr>\n",
       "    <tr>\n",
       "      <th>3</th>\n",
       "      <td>5.391564</td>\n",
       "    </tr>\n",
       "    <tr>\n",
       "      <th>4</th>\n",
       "      <td>5.476413</td>\n",
       "    </tr>\n",
       "    <tr>\n",
       "      <th>5</th>\n",
       "      <td>5.351255</td>\n",
       "    </tr>\n",
       "    <tr>\n",
       "      <th>6</th>\n",
       "      <td>5.437835</td>\n",
       "    </tr>\n",
       "    <tr>\n",
       "      <th>7</th>\n",
       "      <td>5.454087</td>\n",
       "    </tr>\n",
       "    <tr>\n",
       "      <th>8</th>\n",
       "      <td>5.444019</td>\n",
       "    </tr>\n",
       "    <tr>\n",
       "      <th>9</th>\n",
       "      <td>5.426735</td>\n",
       "    </tr>\n",
       "    <tr>\n",
       "      <th>10</th>\n",
       "      <td>5.429995</td>\n",
       "    </tr>\n",
       "  </tbody>\n",
       "</table>\n",
       "</div>"
      ],
      "text/plain": [
       "    Duración (s) X 3 Ejecuciones\n",
       "1                       5.508572\n",
       "2                       5.464005\n",
       "3                       5.391564\n",
       "4                       5.476413\n",
       "5                       5.351255\n",
       "6                       5.437835\n",
       "7                       5.454087\n",
       "8                       5.444019\n",
       "9                       5.426735\n",
       "10                      5.429995"
      ]
     },
     "execution_count": 43,
     "metadata": {},
     "output_type": "execute_result"
    }
   ],
   "source": [
    "import pandas as pd\n",
    "executions = 25.0\n",
    "data = pd.Series([5.508572,5.464005,5.391564,5.476413,5.351255,5.437835,5.454087,5.444019,5.426735,5.429995],\n",
    "                 index=['1', '2', '3', '4', '5', '6', '7', '8', '9', '10'])\n",
    "unique_executions = data/executions\n",
    "table = pd.DataFrame({'Duración (s) X 3 Ejecuciones':data})\n",
    "table"
   ]
  },
  {
   "cell_type": "markdown",
   "metadata": {},
   "source": [
    "De la tabla anterior podemos obtener un histograma con la frecuencia con la que se obtienen los distintos tiempos de ejecución del algoritmo (para 1 única ejecución). De él se puede deducir que la mayoría de las ejecuciones están centradas en torno a 0.2175 segundos. Lo que a priori parece ser la media para 1 única ejecución de nuestro algoritmo."
   ]
  },
  {
   "cell_type": "code",
   "execution_count": 44,
   "metadata": {},
   "outputs": [
    {
     "data": {
      "image/png": "[encoded data removed]",
      "text/plain": [
       "<Figure size 1152x360 with 1 Axes>"
      ]
     },
     "metadata": {
      "needs_background": "light"
     },
     "output_type": "display_data"
    }
   ],
   "source": [
    "import matplotlib.pyplot as plt\n",
    "unique_executions.plot(kind='hist',color='red',\n",
    "                        grid=True, title='Distribución de tiempos obtenidos de 1 ejecución.',\n",
    "                        figsize=(16,5))\n",
    "plt.show()"
   ]
  },
  {
   "cell_type": "code",
   "execution_count": 45,
   "metadata": {},
   "outputs": [
    {
     "name": "stdout",
     "output_type": "stream",
     "text": [
      "Media 25.0 ejecuciones: 5.438448 s.\n",
      "Desviación estándar 25.0 ejecuciones: 0.0415899546333 .\n",
      "Intervalo de confianza 25.0 ejecuciones: (5.4358400279501407, 5.4410559720498579) .\n",
      "Media 1 ejecución: 0.21753792 s.\n"
     ]
    }
   ],
   "source": [
    "from scipy import stats\n",
    "import numpy as np\n",
    "import scipy as sp\n",
    "mean = np.mean(data)\n",
    "mean_iterative = mean\n",
    "std = np.std(data)\n",
    "var = data.var()\n",
    "print(\"Media\", executions,\"ejecuciones:\", mean, \"s.\")\n",
    "print(\"Desviación estándar\", executions,\"ejecuciones:\", std, \".\")\n",
    "print(\"Intervalo de confianza\", executions, \"ejecuciones:\",stats.norm.interval(0.05,loc=mean,scale=std) ,\".\")\n",
    "print(\"Media 1 ejecución:\", np.mean(unique_executions), \"s.\")"
   ]
  },
  {
   "cell_type": "markdown",
   "metadata": {},
   "source": [
    "## Conclusiones"
   ]
  },
  {
   "cell_type": "markdown",
   "metadata": {},
   "source": [
    "Para el problema dado: \n",
    "- Se diseñó un algoritmo iterativo que aplica la función de transformación dada a los dinstintos elementos de las componentes RGB de 2 imágenes y crea una tercera. \n",
    "- Tras 10 muestreos se puede decir que dicho algoritmo es capáz de procesar 25 imágenes en $5.438448$ segundos. O lo que es lo mismo, $4.6$ imágenes por segundo."
   ]
  },
  {
   "cell_type": "markdown",
   "metadata": {},
   "source": [
    "------------------------------------\n",
    "# Versión monohilo SIMD"
   ]
  },
  {
   "cell_type": "markdown",
   "metadata": {},
   "source": [
    "Esta versión consiste en, con el programa anterior sustituir aquellas instrucciones que se realicen con caracter repetitivo cobre elementos de un vector por instrucciones SIMD, estas operaciones permiten realizar una misma tarea sobre varios elementos de un vector al mismo tiempo. Y por tanto se debería de optimizar el programa ya que se realizarán menos operaciones.\n",
    "\n",
    "Así mismo, para este trabajo en grupo se nos asignó usar instrucciones SIMD de tamaño 128 bits y tipo `float`. Con lo que sabiendo que un `float` necesita 32 bits podemos operar sobre 128/32 = 4 elementos de los vectores de píxeles al mimo tiempo."
   ]
  },
  {
   "cell_type": "markdown",
   "metadata": {},
   "source": [
    "## Instrucciones SIMD soportadas\n",
    "\n",
    "En nuestro caso se soportan las instrucciones: MMX, SSE, SSE2, SSE3, SSSE3, SSE4.1, SSE4.2, AVX. Esto puede comprobarse en el documento `cpuinfo.txt` que se suministra en el directorio `/data`."
   ]
  },
  {
   "cell_type": "markdown",
   "metadata": {},
   "source": [
    "## Algoritmo SIMD\n",
    "\n",
    "De la misma forma que hicimos en el algoritmo secuencial aplicamos nuestra función general de transformación a cada uno de los valores de los vectores de información de las imágenes de entrada y guardamos el resultado en la imagen de salida."
   ]
  },
  {
   "cell_type": "markdown",
   "metadata": {},
   "source": [
    "### Pseudocódigo"
   ]
  },
  {
   "cell_type": "markdown",
   "metadata": {},
   "source": [
    "$imagenEntrada_{1} = [ r_{11}, r_{12}, r_{13},...,r_{1n}, g_{11}, g_{12}, g_{13},...,g_{1n}, b_{11}, b_{12}, b_{13},...,b_{1n}]$"
   ]
  },
  {
   "cell_type": "markdown",
   "metadata": {},
   "source": [
    "$imagenEntrada_{2} = [ r_{21}, r_{22}, r_{23},...,r_{2n}, g_{21}, g_{22}, g_{23},...,g_{2n}, b_{21}, b_{22}, b_{23},...,b_{2n}]$"
   ]
  },
  {
   "cell_type": "markdown",
   "metadata": {},
   "source": [
    "$imagenSalida = [ancho \\cdot alto \\cdot numeroComponentes]$"
   ]
  },
  {
   "cell_type": "markdown",
   "metadata": {},
   "source": [
    "PARA CADA i DESDE i=0 HASTA i < $(ancho \\cdot alto \\cdot numeroComponentes)$\n",
    "\n",
    "$$imagenSalida[i] = \\frac{\\sqrt{imagenEntrada_{1}[i]^{2} + imagenEntrada_{2}[i]^{2}}}{\\sqrt{2}}$$"
   ]
  },
  {
   "cell_type": "markdown",
   "metadata": {},
   "source": [
    "### C++"
   ]
  },
  {
   "cell_type": "markdown",
   "metadata": {},
   "source": [
    "Para implamentar el pseudocódigo anterior con instrucciones SIMD lo primero fue identificar qué intruscciones debíamos usar. Recordemos que debemos de trabajar sobre vectores de información con formato de `float`. A esto se le suma la restricción de usar paquetes de datos de 128 bits, por lo que estas són las instrucciones intrínsecas que usaremos para implementar el algoritmo.\n",
    "\n",
    " - Para cargar los vectores de información -> `_mm_loadu_ps`.\n",
    " - Para realizar el cuadrado usaremos una múltiplicación de un elemento por el mismo ya que no existe la función potencia necesaria, por tanto -> `_mm_mul_ps`.\n",
    " - Para sumar -> `_mm_add_ps`.\n",
    " - Para la raíz cuadrada -> `_mm_sqrt_ps`.\n",
    " - Para dividir -> `_mm_div_ps`.\n",
    " - Para guardar en el vector de infomación de la imagen resultante -> `_mm_storeu_ps`.\n",
    " \n",
    " > **Nota:** En las instrucciones intrínsecas anteriores el sufijo u en load y store significa que se realiza sobre elementos no alineados. Y el sufijo `_ps` en todas las instrucciones nos indica que es una operación con punto flotante.\n",
    "\n",
    "Una vez tenemos las instrucciones identificadas pasamos a realizar la implementación en código, lo que supone dividir la función general de transformación en operaciones simples y juntar los resultados parciales hasta aplicar la función a un paquete de datos entero. A continuación repetir el proceso para todos los paquetes de datos que sea necesario.\n",
    "\n",
    "`PIXELS_PER_DATA_PACKAGE` = 128 bits / 32 bits = paquetes de 4 elementos.\n",
    "\n",
    "```c++\n",
    "for (int i = 0; i < IMAGES_SIZE; i += PIXELS_PER_DATA_PACKAGE) {\n",
    "\n",
    "    // Loading input images.\n",
    "    dataPackageImage1 = _mm_loadu_ps(&p_compImage1[i]);\n",
    "    dataPackageImage2 = _mm_loadu_ps(&p_compImage2[i]);\n",
    "\n",
    "    // Computing the squares.\n",
    "    squareDP1 = _mm_mul_ps(dataPackageImage1, dataPackageImage1);\n",
    "    squareDP2 = _mm_mul_ps(dataPackageImage2, dataPackageImage2);\n",
    "\n",
    "    // Multiplying the squares.\n",
    "    productOfSquaresDP12 = _mm_add_ps(squareDP1, squareDP2);\n",
    "\n",
    "    // Computing the square root of the multiplication of the squares.\n",
    "    squarerootDPS = _mm_sqrt_ps(productOfSquaresDP12);\n",
    "\n",
    "    // Computing the division of the squarerootDPS over the square root of 2.\n",
    "    division = _mm_div_ps(squarerootDPS, V_SQRT2);\n",
    "\n",
    "    // Storing the result on to the destination image information vector.\n",
    "    _mm_storeu_ps(&p_dstImage[i], division);\n",
    "\n",
    "}\n",
    "\n",
    "```"
   ]
  },
  {
   "cell_type": "markdown",
   "metadata": {},
   "source": [
    "> **Nota**: _Como la versión secuencial del algoritmo se ejecutó un total de 25 veces, la versión SIMD también se ejeutará un total de 25 veces para obtener una medida de comparación válida._"
   ]
  },
  {
   "cell_type": "markdown",
   "metadata": {},
   "source": [
    "## Análisis del algoritmo implementado\n",
    "Para el algoritmo anterior se obtienen los siguientes datos tras realizar 10 ejecuciones en modo release:"
   ]
  },
  {
   "cell_type": "code",
   "execution_count": 46,
   "metadata": {},
   "outputs": [
    {
     "data": {
      "text/html": [
       "<div>\n",
       "<style scoped>\n",
       "    .dataframe tbody tr th:only-of-type {\n",
       "        vertical-align: middle;\n",
       "    }\n",
       "\n",
       "    .dataframe tbody tr th {\n",
       "        vertical-align: top;\n",
       "    }\n",
       "\n",
       "    .dataframe thead th {\n",
       "        text-align: right;\n",
       "    }\n",
       "</style>\n",
       "<table border=\"1\" class=\"dataframe\">\n",
       "  <thead>\n",
       "    <tr style=\"text-align: right;\">\n",
       "      <th></th>\n",
       "      <th>Duración (s) X 3 Ejecuciones</th>\n",
       "    </tr>\n",
       "  </thead>\n",
       "  <tbody>\n",
       "    <tr>\n",
       "      <th>1</th>\n",
       "      <td>1.501447</td>\n",
       "    </tr>\n",
       "    <tr>\n",
       "      <th>2</th>\n",
       "      <td>1.617852</td>\n",
       "    </tr>\n",
       "    <tr>\n",
       "      <th>3</th>\n",
       "      <td>1.676274</td>\n",
       "    </tr>\n",
       "    <tr>\n",
       "      <th>4</th>\n",
       "      <td>1.644540</td>\n",
       "    </tr>\n",
       "    <tr>\n",
       "      <th>5</th>\n",
       "      <td>1.558858</td>\n",
       "    </tr>\n",
       "    <tr>\n",
       "      <th>6</th>\n",
       "      <td>1.689538</td>\n",
       "    </tr>\n",
       "    <tr>\n",
       "      <th>7</th>\n",
       "      <td>1.562833</td>\n",
       "    </tr>\n",
       "    <tr>\n",
       "      <th>8</th>\n",
       "      <td>1.566737</td>\n",
       "    </tr>\n",
       "    <tr>\n",
       "      <th>9</th>\n",
       "      <td>1.633283</td>\n",
       "    </tr>\n",
       "    <tr>\n",
       "      <th>10</th>\n",
       "      <td>1.622175</td>\n",
       "    </tr>\n",
       "  </tbody>\n",
       "</table>\n",
       "</div>"
      ],
      "text/plain": [
       "    Duración (s) X 3 Ejecuciones\n",
       "1                       1.501447\n",
       "2                       1.617852\n",
       "3                       1.676274\n",
       "4                       1.644540\n",
       "5                       1.558858\n",
       "6                       1.689538\n",
       "7                       1.562833\n",
       "8                       1.566737\n",
       "9                       1.633283\n",
       "10                      1.622175"
      ]
     },
     "execution_count": 46,
     "metadata": {},
     "output_type": "execute_result"
    }
   ],
   "source": [
    "data = pd.Series([1.501447,1.617852,1.676274,1.644540,1.558858,1.689538,1.562833,1.566737,1.633283,1.622175],\n",
    "                 index=['1', '2', '3', '4', '5', '6', '7', '8', '9', '10'])\n",
    "unique_executions = data/executions\n",
    "table = pd.DataFrame({'Duración (s) X 3 Ejecuciones':data})\n",
    "table"
   ]
  },
  {
   "cell_type": "markdown",
   "metadata": {},
   "source": [
    "De la tabla anterior podemos obtener un histograma, como hicimos en la versión secuencial, con la frecuencia con la que se obtienen los distintos tiempos de ejecución del algoritmo (para 1 única ejecución). Sin embargo en este caso los resultados están más dispersos que en la versión secuencial. Esto se puede deber a que al requerir menos tiempo para ejecutarse se ve más afectado a variaciones del sistema. Por lo tanto la desviación estándar será mayor."
   ]
  },
  {
   "cell_type": "code",
   "execution_count": 47,
   "metadata": {},
   "outputs": [
    {
     "data": {
      "image/png": "[encoded data removed]",
      "text/plain": [
       "<Figure size 1152x360 with 1 Axes>"
      ]
     },
     "metadata": {
      "needs_background": "light"
     },
     "output_type": "display_data"
    }
   ],
   "source": [
    "unique_executions.plot(kind='hist',color='red',\n",
    "                        grid=True, title='Distribución de tiempos obtenidos de 1 ejecución.',\n",
    "                        figsize=(16,5))\n",
    "plt.show()"
   ]
  },
  {
   "cell_type": "code",
   "execution_count": 48,
   "metadata": {},
   "outputs": [
    {
     "name": "stdout",
     "output_type": "stream",
     "text": [
      "Media 25.0 ejecuciones: 1.6073537 s.\n",
      "Desviación estándar 25.0 ejecuciones: 0.0557576656004 .\n",
      "Intervalo de confianza 25.0 ejecuciones: (1.6038573164445618, 1.6108500835554387) .\n",
      "Media 1 ejecución: 0.064294148 s.\n",
      "Acceleración respecto a versión secuencial: 3.38347931759\n"
     ]
    }
   ],
   "source": [
    "mean = np.mean(data)\n",
    "std = np.std(data)\n",
    "var = data.var()\n",
    "print(\"Media\", executions,\"ejecuciones:\", mean, \"s.\")\n",
    "print(\"Desviación estándar\", executions,\"ejecuciones:\", std, \".\")\n",
    "print(\"Intervalo de confianza\", executions, \"ejecuciones:\",stats.norm.interval(0.05,loc=mean,scale=std) ,\".\")\n",
    "print(\"Media 1 ejecución:\", np.mean(unique_executions), \"s.\")\n",
    "print(\"Acceleración respecto a versión secuencial:\", mean_iterative/mean)"
   ]
  },
  {
   "cell_type": "markdown",
   "metadata": {},
   "source": [
    "## Conclusiones\n",
    "\n",
    "Para el problema dado: \n",
    "- Se diseñó un algoritmo monohilo empleando instrucciones SIMD que aplica la función de transformación dada a los dinstintos elementos de las componentes RGB de 2 imágenes y crea una tercera. \n",
    "- Tras 10 muestreos se puede decir que dicho algoritmo es capáz de procesar 25 imágenes en $0.064294148$ segundos. O lo que es lo mismo, $15.6$ imágenes por segundo, unas 11 imágenes más que la versión secuencial por segundo.\n",
    "- Si calculamos la aceleración de la versión SIMD con respecto a la versión secuencial observamos una aceleración de 3.38347931759."
   ]
  },
  {
   "cell_type": "markdown",
   "metadata": {},
   "source": [
    "--------------------------------\n",
    "# Versión multihilo"
   ]
  },
  {
   "cell_type": "markdown",
   "metadata": {},
   "source": [
    "------------------------------------------\n",
    "# Referencias"
   ]
  },
  {
   "cell_type": "code",
   "execution_count": null,
   "metadata": {},
   "outputs": [],
   "source": []
  }
 ],
 "metadata": {
  "kernelspec": {
   "display_name": "Python 3",
   "language": "python",
   "name": "python3"
  },
  "language_info": {
   "codemirror_mode": {
    "name": "ipython",
    "version": 3
   },
   "file_extension": ".py",
   "mimetype": "text/x-python",
   "name": "python",
   "nbconvert_exporter": "python",
   "pygments_lexer": "ipython3",
   "version": "3.6.6"
  }
 },
 "nbformat": 4,
 "nbformat_minor": 2
}
