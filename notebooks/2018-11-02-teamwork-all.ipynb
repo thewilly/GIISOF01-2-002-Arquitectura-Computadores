{
 "cells": [
  {
   "cell_type": "markdown",
   "metadata": {},
   "source": [
    "# Trabajo en grupo 2018 - Filtros de imágenes\n",
    "_Arquitectura de Computadores, 2018._"
   ]
  },
  {
   "cell_type": "markdown",
   "metadata": {},
   "source": [
    "## Autores:\n",
    " - Álvaro Baños Gomez, UO245853.\n",
    " - Guillermo Facundo Colunga, UO236856.\n",
    " - Alejandro León Pereira, UO258774.\n",
    " - Iñaki Salgado Uralde, UO237133."
   ]
  },
  {
   "cell_type": "markdown",
   "metadata": {},
   "source": [
    "# Sumario\n",
    "--------------\n",
    "* [Introducción](#Introducción)\n",
    " - [Entorno de trabajo](#Entorno-de-trabajo)\n",
    " - [Problema a resolver](#Problema-a-resolver)\n",
    "* [Algoritmo de fusión de imágenes](#Algoritmo-de-fusión-de-imágenes)\n",
    " - [Definición]()\n",
    " - [Función general de transformación]()\n",
    " - [Análisis de la fgt]()\n",
    "* [Versión monohilo secuencial]()\n",
    " - [Pseudocódigo]()\n",
    " - [Análisis del algoritmo implementado]()\n",
    " - [Conclusiones]()\n",
    "* [Versión monohilo SIMD]()\n",
    " - [Instrucciones SIMD soportadas]()\n",
    " - [Algoritmo SIMD]()\n",
    "   - [Pseudocódigo]()\n",
    " - [Análisis del algoritmo implementado]()\n",
    " - [Conclusiones]()\n",
    "* [Versión multihilo]()\n",
    " - [Concurrencia del sistema de prueba]()\n",
    " - [Algoritmo multihilo]()\n",
    "   - [Worker]()\n",
    "   - [WorkerInfo]()\n",
    "   - [Pseudocódigo]()\n",
    " - [Análisis del algoritmo implementado]()\n",
    " - [Conclusiones]()\n",
    "* [Conclusiones generales]\n",
    " \n",
    " \n",
    "\n",
    "---------------"
   ]
  },
  {
   "cell_type": "markdown",
   "metadata": {},
   "source": [
    "# Introducción"
   ]
  },
  {
   "cell_type": "markdown",
   "metadata": {},
   "source": [
    "## Entorno de trabajo"
   ]
  },
  {
   "cell_type": "markdown",
   "metadata": {},
   "source": [
    "Como entorno de trabajo se usará una máquina virtual ubuntu y el IDE Eclipse para C/C++. La máquina virtual se configura con 4 procesadores, que se corresponde con el máximo número de procesadores que contiene el sistema donde se ejecuta la máquina virtual. Dicha configuración se ilustra con la siguiente imágen.\n",
    "\n",
    "![conf_img](https://github.com/thewilly/GIISOF01-2-002-Arquitectura-Computadores/raw/master/notebooks/data/configuration.png)\n",
    "\n",
    "Para ver la configuración final de la cpu de la máquina virtual encontrarás el archo cpu-info en el directorio `/data`."
   ]
  },
  {
   "cell_type": "markdown",
   "metadata": {},
   "source": [
    "## Problema a resolver"
   ]
  },
  {
   "cell_type": "markdown",
   "metadata": {},
   "source": [
    "# Algoritmo de fusión de imágenes"
   ]
  },
  {
   "cell_type": "markdown",
   "metadata": {},
   "source": [
    "Para la realización de este trabajo en grupo se nos asignó el modo de **fusión de imágenes por amplitud** sobre imágenes con componentes RGB y con tipo de datos `float`, a continuación se explica el algoritmo de fusión.\n",
    "\n",
    "## Definición\n",
    "\n",
    "La fusión de imágenes por amplitud tiene como fin juntar dos imágenes en una sola, para realizar esta tarea usa como referencias las amplitudes de las imágenes, que no es más que los valores de cada una de las componentes de la imagen. A continuación está la fórmula que este algorimo emplea para calcular el valor de cada pixel de la imagen resultante.\n",
    "\n",
    "$$(x{_{3}}, y{_{3}}, z{_{3}}) = \\left ( \\frac{\\sqrt{x{_{1}}^{2} + x{_{2}}^{2}}}{\\sqrt{2}},  \\frac{\\sqrt{y{_{1}}^{2} + y{_{2}}^{2}}}{\\sqrt{2}}, \\frac{\\sqrt{z{_{1}}^{2} + z{_{2}}^{2}}}{\\sqrt{2}} \\right )$$\n",
    "\n",
    "Donde $(x{_{3}}, y{_{3}}, z{_{3}})$ son las coordenadas RGB de la imágen resultante. \n",
    "\n",
    "## Función general de transformación\n",
    "\n",
    "Cómo se puede ver en la fórmula anterior se aplica la misma operación a cada componente de las imágenes para obtener la imágen resultante. Entonces, se puede refactorizar la fórmula para abstraer una función general de transformación de la siguiente forma.\n",
    "\n",
    "$$f(imagen_{x}, imagen_{y}) = \\left ( \\frac{\\sqrt{imagen_{x}^{2} + imagen_{y}^{2}}}{\\sqrt{2}} \\right )$$"
   ]
  },
  {
   "cell_type": "markdown",
   "metadata": {},
   "source": [
    "## Análisis de la función general de transformación"
   ]
  },
  {
   "cell_type": "markdown",
   "metadata": {},
   "source": [
    "El dominio de valores de las diferentes componentes de un pixel se define como (0.0 - 255.0), esto es, todos los valores comprendidos entre 0.0 y 255.0, ambos incluidos. Por tanto tenemos que explorar si nuestra función cumple que para cualquier imágen válida dada nos genere otra válida. En caso contrario deberíamos de aplicar algún mecanismo para hacerla válida."
   ]
  },
  {
   "cell_type": "markdown",
   "metadata": {},
   "source": [
    "Imports necesarios para el análisis"
   ]
  },
  {
   "cell_type": "code",
   "execution_count": 1,
   "metadata": {},
   "outputs": [],
   "source": [
    "import numpy as np\n",
    "import matplotlib.pyplot as plt\n",
    "import math"
   ]
  },
  {
   "cell_type": "markdown",
   "metadata": {},
   "source": [
    "A continuación definimos dos vectores que simularán nuestra imágenes. Dichos vectores contendrán todos los valores posibles desde 0.0 a 255.0."
   ]
  },
  {
   "cell_type": "code",
   "execution_count": 2,
   "metadata": {},
   "outputs": [],
   "source": [
    "values_1 = np.arange(256.0)\n",
    "values_2 = np.arange(256.0)"
   ]
  },
  {
   "cell_type": "markdown",
   "metadata": {},
   "source": [
    "Realizamos una implementación rápida de la fórmula general de transformación"
   ]
  },
  {
   "cell_type": "code",
   "execution_count": 3,
   "metadata": {},
   "outputs": [],
   "source": [
    "def fusion(x, y): return (np.sqrt(x**2 + y**2)/math.sqrt(2))"
   ]
  },
  {
   "cell_type": "markdown",
   "metadata": {},
   "source": [
    "Una vez tenemos definidas nuestras imágenes (vectores) y nuestra función de transformación, aplicamos la función a la imagen A sobre la imágen A (para obtener $f(0,0), f(1,1), ..., f(255,255)$) y a la imagen A sobre A^-1 ($f(0,255), f(1,254), ..., f(0,255)$). De esta forma obtenemos dos imágenes resultantes que representan:\n",
    "\n",
    "- La fusión de mínimos y máximos.\n",
    "- La fusión de una imágen con su inversa."
   ]
  },
  {
   "cell_type": "code",
   "execution_count": 4,
   "metadata": {
    "scrolled": false
   },
   "outputs": [
    {
     "data": {
      "image/png": "[encoded data removed]",
      "text/plain": [
       "<Figure size 1152x432 with 2 Axes>"
      ]
     },
     "metadata": {
      "needs_background": "light"
     },
     "output_type": "display_data"
    }
   ],
   "source": [
    "f, axarr = plt.subplots(1,2, figsize=(16,6))\n",
    "axarr[0].plot(fusion(values_1, values_2), '--r')\n",
    "axarr[0].set_title('f ( x , x )')\n",
    "axarr[1].plot(fusion(values_1, values_2[::-1]), '--r')\n",
    "axarr[1].set_title('f ( x , x^1 )')\n",
    "plt.show()"
   ]
  },
  {
   "cell_type": "markdown",
   "metadata": {},
   "source": [
    "Parece que el máximo valor se alcalza cuando aplicamos la función de transformación sobre la misma imágen, lo que tiene sentido ya que tiene que las variables de la función de transformación toman sus valores máximos $(255.0)$. Pero para asegurar vamos a extraer el máximo del resultado de aplicar la fucnión sobre la misma imagen:"
   ]
  },
  {
   "cell_type": "code",
   "execution_count": 7,
   "metadata": {},
   "outputs": [
    {
     "name": "stdout",
     "output_type": "stream",
     "text": [
      "Valor mínimo de aplicar la función sobre vectores en rango [0.0, ..., 255.0]: 0.0\n",
      "Valor máximo de aplicar la función sobre vectores en rango [0.0, ..., 255.0]: 255.0\n"
     ]
    }
   ],
   "source": [
    "print(\"Valor mínimo de aplicar la función sobre vectores en rango [0.0, ..., 255.0]:\",\n",
    "      min(fusion(values_1, values_2)))\n",
    "print(\"Valor máximo de aplicar la función sobre vectores en rango [0.0, ..., 255.0]:\",\n",
    "      max(fusion(values_1, values_2)))"
   ]
  },
  {
   "cell_type": "markdown",
   "metadata": {},
   "source": [
    "Por lo tanto podemos asegurar que la imágen resultante de aplicar este algoritmo no saturará los valores de destino. Esto podría comprobarse también con un análisi matemático del problema, ya que:"
   ]
  },
  {
   "cell_type": "markdown",
   "metadata": {},
   "source": [
    "$$\\lim_{\\left ( x,y \\right ) \\rightarrow \\left [ 0.0,0.0 \\right ]} \\frac{\\sqrt{x^{2} + y^{2}}}{\\sqrt{2}} = 0.0$$"
   ]
  },
  {
   "cell_type": "markdown",
   "metadata": {},
   "source": [
    "$$\\lim_{\\left ( x,y \\right ) \\rightarrow \\left [ 255.0,255.0 \\right ]} \\frac{\\sqrt{x^{2} + y^{2}}}{\\sqrt{2}} = 255.0$$"
   ]
  },
  {
   "cell_type": "markdown",
   "metadata": {},
   "source": [
    "# Versión monohilo secuencial"
   ]
  },
  {
   "cell_type": "markdown",
   "metadata": {},
   "source": [
    "En esta versión del programa se imlementará la fusión de transformación sobre las diferentes componentes de las imágenes, `R`, `G` y `B`.\n",
    "\n",
    "Para ello inicialmente se diseña un algoritmo en pseudocódigo."
   ]
  },
  {
   "cell_type": "markdown",
   "metadata": {},
   "source": [
    "### Pseudocódigo\n",
    "```\n",
    "PARA CADA i DESDE i=0 HASTA i < número_pixeles_imagen\n",
    "        \n",
    "    comp_rojo_img_c[i] = sqrt(comp_rojo_img_a[i]^2 + comp_rojo_img_b[i]^2) / sqrt(2)\n",
    "        \n",
    "    comp_verde_img_c[i] = sqrt(comp_verde_img_a[i]^2 + comp_verde_img_b[i]^2) / sqrt(2)\n",
    "        \n",
    "    comp_azul_img_c[i] = sqrt(comp_azul_img_a[i]^2 + comp_azul_img_b[i]^2) / sqrt(2)\n",
    "```"
   ]
  },
  {
   "cell_type": "markdown",
   "metadata": {},
   "source": [
    "Una vez tenemos el algortimo diseñado en pseudocódigo procedemos a realizar su implmentación en C++. La única diferencia entre la implementación en C++ y el pseudocódigo es que en lugar de arrays se emplean punteros para acceder a los valores de las imágenes originales y la imagen resultante."
   ]
  },
  {
   "cell_type": "markdown",
   "metadata": {},
   "source": [
    "### C++\n",
    "```c++\n",
    "for (int i = 0; i < nPixels; i++) {\n",
    "    *pRnew = sqrtf(pow(*pRcomp_1, 2.0f) + pow(*pRcomp_2, 2.0f)) / SQRT2;\n",
    "    *pGnew = sqrtf(pow(*pGcomp_1, 2.0f) + pow(*pGcomp_2, 2.0f)) / SQRT2;\n",
    "    *pBnew = sqrtf(pow(*pBcomp_1, 2.0f) + pow(*pBcomp_2, 2.0f)) / SQRT2;\n",
    "\n",
    "    pRnew++; pRcomp_1++; pRcomp_2++;\n",
    "    pGnew++; pGcomp_1++; pGcomp_2++;\n",
    "    pBnew++; pBcomp_1++; pBcomp_2++;\n",
    "}\n",
    "```"
   ]
  },
  {
   "cell_type": "markdown",
   "metadata": {},
   "source": [
    "Se puede encontrar la implementación completa en [Main.cpp](https://github.com/thewilly/GIISOF01-2-002-Arquitectura-Computadores/blob/master/Singlethread/Src/Main.cpp)."
   ]
  },
  {
   "cell_type": "markdown",
   "metadata": {},
   "source": [
    "> **Nota**: _Como la ejecucion del algoritmo anterior dura menos de 5 segundos se anida dentro de un bucle `for` que lo repetirá 25 veces. Con lo que el tiempo de la ejecución del programa será superior a los 5 segundos, **pero se estará ejecutando el algoritmo 25 veces**._\n",
    "\n",
    "> **Nota**: _En el agortimo anterior se ha realizado una pequeña optimización sacando factor común a sqrt(2) fuera del bucle. Por lo que este valor no se computa cada vez que se necesita si no que se define en una constante al inicio del Main.cpp._\n",
    "\n",
    "> **Nota**: _Como se puede ver en el algoritmo no se realiza ningún tipo de validación sobre los datos resultantes de aplicar la función de transformación, esto es, por que durante el análisis se probó que para valores de entrada en un rango [0.0, ..., 255.0] los valores resultantes estarán siempre comprendidos en ese mismo rango._"
   ]
  },
  {
   "cell_type": "markdown",
   "metadata": {},
   "source": [
    "## Análisis del algoritmo implementado\n",
    "Para el algoritmo anterior se obtienen los siguientes datos tras realizar 10 ejecuciones en modo release:"
   ]
  },
  {
   "cell_type": "code",
   "execution_count": 8,
   "metadata": {},
   "outputs": [
    {
     "data": {
      "text/html": [
       "<div>\n",
       "<style scoped>\n",
       "    .dataframe tbody tr th:only-of-type {\n",
       "        vertical-align: middle;\n",
       "    }\n",
       "\n",
       "    .dataframe tbody tr th {\n",
       "        vertical-align: top;\n",
       "    }\n",
       "\n",
       "    .dataframe thead th {\n",
       "        text-align: right;\n",
       "    }\n",
       "</style>\n",
       "<table border=\"1\" class=\"dataframe\">\n",
       "  <thead>\n",
       "    <tr style=\"text-align: right;\">\n",
       "      <th></th>\n",
       "      <th>Duración (s) X 3 Ejecuciones</th>\n",
       "    </tr>\n",
       "  </thead>\n",
       "  <tbody>\n",
       "    <tr>\n",
       "      <th>1</th>\n",
       "      <td>5.473878</td>\n",
       "    </tr>\n",
       "    <tr>\n",
       "      <th>2</th>\n",
       "      <td>5.459996</td>\n",
       "    </tr>\n",
       "    <tr>\n",
       "      <th>3</th>\n",
       "      <td>5.440931</td>\n",
       "    </tr>\n",
       "    <tr>\n",
       "      <th>4</th>\n",
       "      <td>5.441643</td>\n",
       "    </tr>\n",
       "    <tr>\n",
       "      <th>5</th>\n",
       "      <td>5.451255</td>\n",
       "    </tr>\n",
       "    <tr>\n",
       "      <th>6</th>\n",
       "      <td>5.437835</td>\n",
       "    </tr>\n",
       "    <tr>\n",
       "      <th>7</th>\n",
       "      <td>5.452547</td>\n",
       "    </tr>\n",
       "    <tr>\n",
       "      <th>8</th>\n",
       "      <td>5.544019</td>\n",
       "    </tr>\n",
       "    <tr>\n",
       "      <th>9</th>\n",
       "      <td>5.443557</td>\n",
       "    </tr>\n",
       "    <tr>\n",
       "      <th>10</th>\n",
       "      <td>5.450508</td>\n",
       "    </tr>\n",
       "  </tbody>\n",
       "</table>\n",
       "</div>"
      ],
      "text/plain": [
       "    Duración (s) X 3 Ejecuciones\n",
       "1                       5.473878\n",
       "2                       5.459996\n",
       "3                       5.440931\n",
       "4                       5.441643\n",
       "5                       5.451255\n",
       "6                       5.437835\n",
       "7                       5.452547\n",
       "8                       5.544019\n",
       "9                       5.443557\n",
       "10                      5.450508"
      ]
     },
     "execution_count": 8,
     "metadata": {},
     "output_type": "execute_result"
    }
   ],
   "source": [
    "import pandas as pd\n",
    "executions = 25.0\n",
    "data = pd.Series([5.473878, 5.459996, 5.440931,5.441643,5.451255,5.437835,5.452547,5.544019,5.443557,5.450508],\n",
    "                 index=['1', '2', '3', '4', '5', '6', '7', '8', '9', '10'])\n",
    "unique_executions = data/executions\n",
    "table = pd.DataFrame({'Duración (s) X 3 Ejecuciones':data})\n",
    "table"
   ]
  },
  {
   "cell_type": "markdown",
   "metadata": {},
   "source": [
    "De la tabla anterior podemos obtener un histograma con la frecuencia con la que se obtienen los distintos tiempos de ejecución del algoritmo (para 1 única ejecución). De él se puede deducir que la mayoría de las ejecuciones están centradas en torno a 0.218 segundos. Lo que a priori parece ser la media para 1 única ejecución de nuestro algoritmo."
   ]
  },
  {
   "cell_type": "code",
   "execution_count": 9,
   "metadata": {},
   "outputs": [
    {
     "data": {
      "image/png": "[encoded data removed]",
      "text/plain": [
       "<Figure size 1152x360 with 1 Axes>"
      ]
     },
     "metadata": {
      "needs_background": "light"
     },
     "output_type": "display_data"
    }
   ],
   "source": [
    "import matplotlib.pyplot as plt\n",
    "unique_executions.plot(kind='hist',color='red',\n",
    "                        grid=True, title='Distribución de tiempos obtenidos de 1 ejecución.',\n",
    "                        figsize=(16,5))\n",
    "plt.show()"
   ]
  },
  {
   "cell_type": "code",
   "execution_count": 18,
   "metadata": {},
   "outputs": [
    {
     "name": "stdout",
     "output_type": "stream",
     "text": [
      "Media 25.0 ejecuciones: 5.4596169 s.\n",
      "Desviación estándar 25.0 ejecuciones: 0.0298909845721 .\n",
      "Intervalo de confianza 25.0 ejecuciones: (5.4577425326679325, 5.4614912673320664) .\n",
      "Media 1 ejecución: 0.218384676 s.\n"
     ]
    }
   ],
   "source": [
    "from scipy import stats\n",
    "import numpy as np\n",
    "import scipy as sp\n",
    "mean = np.mean(data)\n",
    "std = np.std(data)\n",
    "var = data.var()\n",
    "print(\"Media\", executions,\"ejecuciones:\", mean, \"s.\")\n",
    "print(\"Desviación estándar\", executions,\"ejecuciones:\", std, \".\")\n",
    "print(\"Intervalo de confianza\", executions, \"ejecuciones:\",stats.norm.interval(0.05,loc=mean,scale=std) ,\".\")\n",
    "print(\"Media 1 ejecución:\", np.mean(unique_executions), \"s.\")"
   ]
  },
  {
   "cell_type": "markdown",
   "metadata": {},
   "source": [
    "## Conclusiones"
   ]
  },
  {
   "cell_type": "markdown",
   "metadata": {},
   "source": [
    "Para el problema dado: \n",
    "- Se diseñó un algoritmo iterativo que aplica la función de transformación dada a los dinstintos elementos de las componentes RGB de 2 imágenes y crea una tercera. \n",
    "- Tras 10 muestreos se puede decir que dicho algoritmo es capáz de procesar 25 imágenes en $5.4596169$ segundos. O lo que es lo mismo, $4.6$ imágenes por segundo."
   ]
  },
  {
   "cell_type": "markdown",
   "metadata": {},
   "source": [
    "# Versión monohilo SIMD"
   ]
  },
  {
   "cell_type": "markdown",
   "metadata": {},
   "source": [
    "Esta versión consiste en, con el programa anterior sustituir aquellas instrucciones que se realicen con caracter repetitivo cobre elementos de un vector por instrucciones SIMD, estas operaciones permiten realizar una misma tarea sobre varios elementos de un vector al mismo tiempo. Y por tanto se debería de optimizar el programa ya que se realizarán menos operaciones.\n",
    "\n",
    "Así mismo, para este trabajo en grupo se nos asignó usar instrucciones SIMD de tamaño 128 bits y tipo `float`. Con lo que sabiendo que un `float` necesita 32 bits podemos operar sobre 128/34 = 4 elementos de los vectores de píxeles al mimo tiempo."
   ]
  },
  {
   "cell_type": "markdown",
   "metadata": {},
   "source": [
    "## Instrucciones SIMD soportadas\n",
    "\n",
    "En nuestro caso se soportan las instrucciones: MMX, SSE, SSE2, SSE3, SSSE3, SSE4.1, SSE4.2, AVX. Esto puede comprobarse en el documento `cpuinfo.txt` que se suministra en el directorio `/data`."
   ]
  },
  {
   "cell_type": "markdown",
   "metadata": {},
   "source": [
    "Como para el caso anterior cada imagen estará representada por un único vector de información donde estarán todas sus componentes:\n",
    "\n",
    "$$v = [ r_{1}, r_{2}, r_{3},...,r_{n}, g_{1}, g_{2}, g_{3},...,g_{n}, b_{1}, b_{2}, b_{3},...,b_{n}]$$"
   ]
  },
  {
   "cell_type": "markdown",
   "metadata": {},
   "source": [
    "Por lo tanto lo que tenemos es un único vector por imagen que contiene el valor de las componentes rojas, luego verdes y finalmente azules. De lo que se deduce que el tamaño de $v$ es: $ancho \\cdot alto \\cdot númeroComponentes$."
   ]
  },
  {
   "cell_type": "markdown",
   "metadata": {},
   "source": [
    "## Algoritmo SIMD\n",
    "\n",
    "A diferencia del programa secuencial, en este caso ya que sabemos que una imágen es un único vector donde están todas sus componentes y que tanto las imágenes de entrada como la imagen de salida tienen la mismas dimensiones, por lo tanto en lugar de operar sobre las componentes R, G y B operaremos sobre cada elemento del vector de información de la imágen."
   ]
  },
  {
   "cell_type": "markdown",
   "metadata": {},
   "source": [
    "### Pseudocódigo"
   ]
  },
  {
   "cell_type": "markdown",
   "metadata": {},
   "source": [
    "$imagen_{1} = [ r_{11}, r_{12}, r_{13},...,r_{1n}, g_{11}, g_{12}, g_{13},...,g_{1n}, b_{11}, b_{12}, b_{13},...,b_{1n}]$"
   ]
  },
  {
   "cell_type": "markdown",
   "metadata": {},
   "source": [
    "$imagen_{2} = [ r_{21}, r_{22}, r_{23},...,r_{2n}, g_{21}, g_{22}, g_{23},...,g_{2n}, b_{21}, b_{22}, b_{23},...,b_{2n}]$"
   ]
  },
  {
   "cell_type": "markdown",
   "metadata": {},
   "source": [
    "$imagen_{3} = [ancho \\cdot alto \\cdot numeroComponentes]$"
   ]
  },
  {
   "cell_type": "markdown",
   "metadata": {},
   "source": [
    "PARA CADA i DESDE i=0 HASTA i < $(ancho \\cdot alto \\cdot numeroComponentes)$\n",
    "\n",
    "$$imagen_{3i} = \\frac{\\sqrt{imagen_{1i}^{2} + imagen_{2i}^{2}}}{\\sqrt{2}}$$"
   ]
  },
  {
   "cell_type": "markdown",
   "metadata": {},
   "source": [
    "### C++"
   ]
  },
  {
   "cell_type": "markdown",
   "metadata": {},
   "source": [
    "Una primera implementación del algoritmo secuencial podría ser la siguiente, donde vemos que se itera de 4 en 4 elementos sobre los vectores de información de las imágenes de entrada y los valores computados de 4 en 4 se guardan en el vector de la imágen de salida.\n",
    "\n",
    "`SIMD_BANDWITH` = 128 bits / 32 bits = paquetes de 4 elementos.\n",
    "\n",
    "```c++\n",
    "for (int i = 0; i < size; i += SIMD_BANDWITH) {   \n",
    "    a = _mm_loadu_ps(&pcompImage1[i]);  // cargar img1\n",
    "    b = _mm_loadu_ps(&pcompImage2[i]);  // cargar img2\n",
    "    a2 = _mm_mul_ps(a, a);              // img1^2\n",
    "    b2 = _mm_mul_ps(b, b);              // img2^2\n",
    "    ab2 = _mm_add_ps(a2, b2);           // img1^2 + img2^2\n",
    "    raizab2 = _mm_sqrt_ps(ab2);         // raiz_cuadrada( img1^2 + img2^2 )\n",
    "    res8 = _mm_div_ps(raizab2, vsqrt2); // raiz_cuadrada( img1^2 + img2^2 ) / raiz_cuadrada( 2.0 )\n",
    "    _mm_storeu_ps(&pdstImage[i], res8); // img3 = raiz_cuadrada( img1^2 + img2^2 ) / raiz_cuadrada( 2.0 )\n",
    "}\n",
    "\n",
    "```\n",
    "\n",
    "Sin embargo esa implementación separa todas y cada una de las operaciones en una variable cada una, lo que realmente no es necesario en nigún caso ya  que podemos conseguir uan correcta legibilidad del código y eliminar las varibales con la siguiente implementación:\n",
    "\n",
    "```c++\n",
    "for (int i = 0; i < IMAGES_SIZE; i += PIXELS_PER_DATA_PACKAGE) {\n",
    "\n",
    "\tdataPackageImage1 = _mm_loadu_ps(&p_compImage1[i]); // loading the first image.\n",
    "\tdataPackageImage2 = _mm_loadu_ps(&p_compImage2[i]); // loading the second image.\n",
    "\n",
    "\t_mm_storeu_ps( \t\t\t\t\t\t\t\t// Store\n",
    "\t\t&p_dstImage[i],\t\t\t\t\t\t\t// At destination image\n",
    "\t\t_mm_div_ps(\t\t\t\t\t\t\t\t// The division\n",
    "\t\t\t_mm_sqrt_ps(\t\t\t\t\t   \t// Of the square root\n",
    "\t\t\t\t_mm_add_ps(\t\t\t\t\t\t// Of the addition\n",
    "\t\t\t\t\t_mm_mul_ps(\t\t\t\t\t// Of the multiplication\n",
    "\t\t\t\t\t\tdataPackageImage1,         // Of the first image\n",
    "\t\t\t\t\t\tdataPackageImage1),\t\t// By the first image\n",
    "\t\t\t\t\t_mm_mul_ps(\t\t\t        // And the multiplication\n",
    "\t\t\t\t\t\tdataPackageImage2,\t     // Of the second image\n",
    "\t\t\t\t\t\tdataPackageImage2))),      // By itself\n",
    "\t\t\tV_SQRT2));\t\t\t\t\t\t     // By the square root of 2.\n",
    "}\n",
    "\n",
    "```"
   ]
  },
  {
   "cell_type": "markdown",
   "metadata": {},
   "source": [
    "> **Nota**: _Como la versión secuencial del algoritmo se ejecutó un total de 25 veces, la versión SIMD también se ejeutará un total de 25 veces para obtener una medida de comparación válida._\n",
    "\n",
    "> **Nota:** El algoritmo anterior se encuentra implementado únicamente con instrucciones SIMD anidadas, sin variables."
   ]
  },
  {
   "cell_type": "markdown",
   "metadata": {},
   "source": [
    "## Análisis del algoritmo implementado\n",
    "Para el algoritmo anterior se obtienen los siguientes datos tras realizar 10 ejecuciones en modo release:"
   ]
  },
  {
   "cell_type": "markdown",
   "metadata": {},
   "source": [
    "## Versión multihilo"
   ]
  },
  {
   "cell_type": "markdown",
   "metadata": {},
   "source": [
    "## Referencias"
   ]
  },
  {
   "cell_type": "code",
   "execution_count": null,
   "metadata": {},
   "outputs": [],
   "source": []
  }
 ],
 "metadata": {
  "kernelspec": {
   "display_name": "Python 3",
   "language": "python",
   "name": "python3"
  },
  "language_info": {
   "codemirror_mode": {
    "name": "ipython",
    "version": 3
   },
   "file_extension": ".py",
   "mimetype": "text/x-python",
   "name": "python",
   "nbconvert_exporter": "python",
   "pygments_lexer": "ipython3",
   "version": "3.6.6"
  }
 },
 "nbformat": 4,
 "nbformat_minor": 2
}
